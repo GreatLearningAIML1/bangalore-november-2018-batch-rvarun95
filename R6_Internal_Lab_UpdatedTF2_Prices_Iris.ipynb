{
 "cells": [
  {
   "cell_type": "markdown",
   "metadata": {
    "colab_type": "text",
    "id": "84Q8JfvaeZZ6"
   },
   "source": [
    "## Linear Classifier in TensorFlow \n",
    "Using Low Level API in Eager Execution mode"
   ]
  },
  {
   "cell_type": "markdown",
   "metadata": {
    "colab_type": "text",
    "id": "sb7Epo0VOB58"
   },
   "source": [
    "### Load tensorflow"
   ]
  },
  {
   "cell_type": "code",
   "execution_count": 2,
   "metadata": {},
   "outputs": [],
   "source": [
    "from IPython.core.interactiveshell import InteractiveShell\n",
    "InteractiveShell.ast_node_interactivity = \"all\"\n",
    "import warnings\n",
    "warnings.filterwarnings('ignore')"
   ]
  },
  {
   "cell_type": "code",
   "execution_count": 1,
   "metadata": {
    "colab": {},
    "colab_type": "code",
    "id": "fHpCNRv1OB5-"
   },
   "outputs": [],
   "source": [
    "import tensorflow as tf"
   ]
  },
  {
   "cell_type": "code",
   "execution_count": 3,
   "metadata": {
    "colab": {},
    "colab_type": "code",
    "id": "Mjtb-EMcm5K0"
   },
   "outputs": [],
   "source": [
    "#Enable Eager Execution if using tensflow version < 2.0\n",
    "#From tensorflow v2.0 onwards, Eager Execution will be enabled by default\n",
    "tf.enable_eager_execution()"
   ]
  },
  {
   "cell_type": "markdown",
   "metadata": {
    "colab_type": "text",
    "id": "DxJDmJqqOB6K",
    "slideshow": {
     "slide_type": "slide"
    }
   },
   "source": [
    "### Collect Data"
   ]
  },
  {
   "cell_type": "code",
   "execution_count": 4,
   "metadata": {
    "colab": {},
    "colab_type": "code",
    "id": "FhllFLyKOB6N"
   },
   "outputs": [],
   "source": [
    "#from google.colab import drive\n",
    "#drive.mount('/gdrive')"
   ]
  },
  {
   "cell_type": "code",
   "execution_count": 3,
   "metadata": {
    "colab": {},
    "colab_type": "code",
    "id": "KiObW4V4SIOz"
   },
   "outputs": [],
   "source": [
    "import pandas as pd\n",
    "import numpy as np"
   ]
  },
  {
   "cell_type": "code",
   "execution_count": 6,
   "metadata": {
    "colab": {},
    "colab_type": "code",
    "id": "B4yQKMiJOB6R"
   },
   "outputs": [],
   "source": [
    "p_data = pd.read_csv('Prices.csv')"
   ]
  },
  {
   "cell_type": "markdown",
   "metadata": {
    "colab_type": "text",
    "id": "fgkX6SEqOB6W"
   },
   "source": [
    "### Check all columns in the dataset"
   ]
  },
  {
   "cell_type": "code",
   "execution_count": 7,
   "metadata": {},
   "outputs": [
    {
     "data": {
      "text/plain": [
       "Index(['date', 'symbol', 'open', 'close', 'low', 'high', 'volume'], dtype='object')"
      ]
     },
     "execution_count": 7,
     "metadata": {},
     "output_type": "execute_result"
    }
   ],
   "source": [
    "p_data.columns"
   ]
  },
  {
   "cell_type": "code",
   "execution_count": 8,
   "metadata": {},
   "outputs": [
    {
     "name": "stdout",
     "output_type": "stream",
     "text": [
      "<class 'pandas.core.frame.DataFrame'>\n",
      "RangeIndex: 851264 entries, 0 to 851263\n",
      "Data columns (total 7 columns):\n",
      "date      851264 non-null object\n",
      "symbol    851264 non-null object\n",
      "open      851264 non-null float64\n",
      "close     851264 non-null float64\n",
      "low       851264 non-null float64\n",
      "high      851264 non-null float64\n",
      "volume    851264 non-null float64\n",
      "dtypes: float64(5), object(2)\n",
      "memory usage: 45.5+ MB\n"
     ]
    }
   ],
   "source": [
    "p_data.info()"
   ]
  },
  {
   "cell_type": "code",
   "execution_count": 9,
   "metadata": {},
   "outputs": [
    {
     "data": {
      "text/html": [
       "<div>\n",
       "<style scoped>\n",
       "    .dataframe tbody tr th:only-of-type {\n",
       "        vertical-align: middle;\n",
       "    }\n",
       "\n",
       "    .dataframe tbody tr th {\n",
       "        vertical-align: top;\n",
       "    }\n",
       "\n",
       "    .dataframe thead th {\n",
       "        text-align: right;\n",
       "    }\n",
       "</style>\n",
       "<table border=\"1\" class=\"dataframe\">\n",
       "  <thead>\n",
       "    <tr style=\"text-align: right;\">\n",
       "      <th></th>\n",
       "      <th>date</th>\n",
       "      <th>symbol</th>\n",
       "      <th>open</th>\n",
       "      <th>close</th>\n",
       "      <th>low</th>\n",
       "      <th>high</th>\n",
       "      <th>volume</th>\n",
       "    </tr>\n",
       "  </thead>\n",
       "  <tbody>\n",
       "    <tr>\n",
       "      <th>0</th>\n",
       "      <td>2016-01-05 00:00:00</td>\n",
       "      <td>WLTW</td>\n",
       "      <td>123.430000</td>\n",
       "      <td>125.839996</td>\n",
       "      <td>122.309998</td>\n",
       "      <td>126.250000</td>\n",
       "      <td>2163600.0</td>\n",
       "    </tr>\n",
       "    <tr>\n",
       "      <th>1</th>\n",
       "      <td>2016-01-06 00:00:00</td>\n",
       "      <td>WLTW</td>\n",
       "      <td>125.239998</td>\n",
       "      <td>119.980003</td>\n",
       "      <td>119.940002</td>\n",
       "      <td>125.540001</td>\n",
       "      <td>2386400.0</td>\n",
       "    </tr>\n",
       "    <tr>\n",
       "      <th>2</th>\n",
       "      <td>2016-01-07 00:00:00</td>\n",
       "      <td>WLTW</td>\n",
       "      <td>116.379997</td>\n",
       "      <td>114.949997</td>\n",
       "      <td>114.930000</td>\n",
       "      <td>119.739998</td>\n",
       "      <td>2489500.0</td>\n",
       "    </tr>\n",
       "    <tr>\n",
       "      <th>3</th>\n",
       "      <td>2016-01-08 00:00:00</td>\n",
       "      <td>WLTW</td>\n",
       "      <td>115.480003</td>\n",
       "      <td>116.620003</td>\n",
       "      <td>113.500000</td>\n",
       "      <td>117.440002</td>\n",
       "      <td>2006300.0</td>\n",
       "    </tr>\n",
       "    <tr>\n",
       "      <th>4</th>\n",
       "      <td>2016-01-11 00:00:00</td>\n",
       "      <td>WLTW</td>\n",
       "      <td>117.010002</td>\n",
       "      <td>114.970001</td>\n",
       "      <td>114.089996</td>\n",
       "      <td>117.330002</td>\n",
       "      <td>1408600.0</td>\n",
       "    </tr>\n",
       "  </tbody>\n",
       "</table>\n",
       "</div>"
      ],
      "text/plain": [
       "                  date symbol        open       close         low        high  \\\n",
       "0  2016-01-05 00:00:00   WLTW  123.430000  125.839996  122.309998  126.250000   \n",
       "1  2016-01-06 00:00:00   WLTW  125.239998  119.980003  119.940002  125.540001   \n",
       "2  2016-01-07 00:00:00   WLTW  116.379997  114.949997  114.930000  119.739998   \n",
       "3  2016-01-08 00:00:00   WLTW  115.480003  116.620003  113.500000  117.440002   \n",
       "4  2016-01-11 00:00:00   WLTW  117.010002  114.970001  114.089996  117.330002   \n",
       "\n",
       "      volume  \n",
       "0  2163600.0  \n",
       "1  2386400.0  \n",
       "2  2489500.0  \n",
       "3  2006300.0  \n",
       "4  1408600.0  "
      ]
     },
     "execution_count": 9,
     "metadata": {},
     "output_type": "execute_result"
    }
   ],
   "source": [
    "p_data.head()"
   ]
  },
  {
   "cell_type": "markdown",
   "metadata": {
    "colab_type": "text",
    "id": "7dU6X7MpOB6c"
   },
   "source": [
    "### Drop columns `date` and  `symbol`"
   ]
  },
  {
   "cell_type": "code",
   "execution_count": 10,
   "metadata": {
    "colab": {},
    "colab_type": "code",
    "id": "lh_6spSKOB6e"
   },
   "outputs": [],
   "source": [
    "p_data = p_data.drop(labels='date', axis=1)\n",
    "p_data = p_data.drop(labels='symbol', axis=1)"
   ]
  },
  {
   "cell_type": "code",
   "execution_count": 11,
   "metadata": {
    "colab": {},
    "colab_type": "code",
    "id": "xlwbUgTwOB6i",
    "outputId": "56bad82a-f271-415a-e0d6-cbe1c4290743"
   },
   "outputs": [
    {
     "data": {
      "text/html": [
       "<div>\n",
       "<style scoped>\n",
       "    .dataframe tbody tr th:only-of-type {\n",
       "        vertical-align: middle;\n",
       "    }\n",
       "\n",
       "    .dataframe tbody tr th {\n",
       "        vertical-align: top;\n",
       "    }\n",
       "\n",
       "    .dataframe thead th {\n",
       "        text-align: right;\n",
       "    }\n",
       "</style>\n",
       "<table border=\"1\" class=\"dataframe\">\n",
       "  <thead>\n",
       "    <tr style=\"text-align: right;\">\n",
       "      <th></th>\n",
       "      <th>open</th>\n",
       "      <th>close</th>\n",
       "      <th>low</th>\n",
       "      <th>high</th>\n",
       "      <th>volume</th>\n",
       "    </tr>\n",
       "  </thead>\n",
       "  <tbody>\n",
       "    <tr>\n",
       "      <th>0</th>\n",
       "      <td>123.430000</td>\n",
       "      <td>125.839996</td>\n",
       "      <td>122.309998</td>\n",
       "      <td>126.250000</td>\n",
       "      <td>2163600.0</td>\n",
       "    </tr>\n",
       "    <tr>\n",
       "      <th>1</th>\n",
       "      <td>125.239998</td>\n",
       "      <td>119.980003</td>\n",
       "      <td>119.940002</td>\n",
       "      <td>125.540001</td>\n",
       "      <td>2386400.0</td>\n",
       "    </tr>\n",
       "    <tr>\n",
       "      <th>2</th>\n",
       "      <td>116.379997</td>\n",
       "      <td>114.949997</td>\n",
       "      <td>114.930000</td>\n",
       "      <td>119.739998</td>\n",
       "      <td>2489500.0</td>\n",
       "    </tr>\n",
       "    <tr>\n",
       "      <th>3</th>\n",
       "      <td>115.480003</td>\n",
       "      <td>116.620003</td>\n",
       "      <td>113.500000</td>\n",
       "      <td>117.440002</td>\n",
       "      <td>2006300.0</td>\n",
       "    </tr>\n",
       "    <tr>\n",
       "      <th>4</th>\n",
       "      <td>117.010002</td>\n",
       "      <td>114.970001</td>\n",
       "      <td>114.089996</td>\n",
       "      <td>117.330002</td>\n",
       "      <td>1408600.0</td>\n",
       "    </tr>\n",
       "  </tbody>\n",
       "</table>\n",
       "</div>"
      ],
      "text/plain": [
       "         open       close         low        high     volume\n",
       "0  123.430000  125.839996  122.309998  126.250000  2163600.0\n",
       "1  125.239998  119.980003  119.940002  125.540001  2386400.0\n",
       "2  116.379997  114.949997  114.930000  119.739998  2489500.0\n",
       "3  115.480003  116.620003  113.500000  117.440002  2006300.0\n",
       "4  117.010002  114.970001  114.089996  117.330002  1408600.0"
      ]
     },
     "execution_count": 11,
     "metadata": {},
     "output_type": "execute_result"
    }
   ],
   "source": [
    "p_data.head()"
   ]
  },
  {
   "cell_type": "code",
   "execution_count": 12,
   "metadata": {},
   "outputs": [
    {
     "data": {
      "text/plain": [
       "(851264, 5)"
      ]
     },
     "execution_count": 12,
     "metadata": {},
     "output_type": "execute_result"
    }
   ],
   "source": [
    "p_data.shape"
   ]
  },
  {
   "cell_type": "markdown",
   "metadata": {
    "colab_type": "text",
    "id": "3DBv3WWYOB6q"
   },
   "source": [
    "### Consider only first 1000 rows in the dataset for building feature set and target set\n",
    "Target 'Volume' has very high values. Divide 'Volume' by 1000,000"
   ]
  },
  {
   "cell_type": "code",
   "execution_count": 13,
   "metadata": {
    "colab": {},
    "colab_type": "code",
    "id": "Z_hG9rGBOB6s"
   },
   "outputs": [],
   "source": [
    "p_d_1000 = p_data.head(1000)"
   ]
  },
  {
   "cell_type": "code",
   "execution_count": 14,
   "metadata": {},
   "outputs": [
    {
     "data": {
      "text/plain": [
       "(1000, 5)"
      ]
     },
     "execution_count": 14,
     "metadata": {},
     "output_type": "execute_result"
    }
   ],
   "source": [
    "p_d_1000.shape"
   ]
  },
  {
   "cell_type": "code",
   "execution_count": 15,
   "metadata": {},
   "outputs": [],
   "source": [
    "p_d_1000['volume'] = p_d_1000.volume / 1000000"
   ]
  },
  {
   "cell_type": "code",
   "execution_count": 16,
   "metadata": {},
   "outputs": [
    {
     "data": {
      "text/html": [
       "<div>\n",
       "<style scoped>\n",
       "    .dataframe tbody tr th:only-of-type {\n",
       "        vertical-align: middle;\n",
       "    }\n",
       "\n",
       "    .dataframe tbody tr th {\n",
       "        vertical-align: top;\n",
       "    }\n",
       "\n",
       "    .dataframe thead th {\n",
       "        text-align: right;\n",
       "    }\n",
       "</style>\n",
       "<table border=\"1\" class=\"dataframe\">\n",
       "  <thead>\n",
       "    <tr style=\"text-align: right;\">\n",
       "      <th></th>\n",
       "      <th>open</th>\n",
       "      <th>close</th>\n",
       "      <th>low</th>\n",
       "      <th>high</th>\n",
       "      <th>volume</th>\n",
       "    </tr>\n",
       "  </thead>\n",
       "  <tbody>\n",
       "    <tr>\n",
       "      <th>0</th>\n",
       "      <td>123.430000</td>\n",
       "      <td>125.839996</td>\n",
       "      <td>122.309998</td>\n",
       "      <td>126.250000</td>\n",
       "      <td>2.1636</td>\n",
       "    </tr>\n",
       "    <tr>\n",
       "      <th>1</th>\n",
       "      <td>125.239998</td>\n",
       "      <td>119.980003</td>\n",
       "      <td>119.940002</td>\n",
       "      <td>125.540001</td>\n",
       "      <td>2.3864</td>\n",
       "    </tr>\n",
       "    <tr>\n",
       "      <th>2</th>\n",
       "      <td>116.379997</td>\n",
       "      <td>114.949997</td>\n",
       "      <td>114.930000</td>\n",
       "      <td>119.739998</td>\n",
       "      <td>2.4895</td>\n",
       "    </tr>\n",
       "    <tr>\n",
       "      <th>3</th>\n",
       "      <td>115.480003</td>\n",
       "      <td>116.620003</td>\n",
       "      <td>113.500000</td>\n",
       "      <td>117.440002</td>\n",
       "      <td>2.0063</td>\n",
       "    </tr>\n",
       "    <tr>\n",
       "      <th>4</th>\n",
       "      <td>117.010002</td>\n",
       "      <td>114.970001</td>\n",
       "      <td>114.089996</td>\n",
       "      <td>117.330002</td>\n",
       "      <td>1.4086</td>\n",
       "    </tr>\n",
       "  </tbody>\n",
       "</table>\n",
       "</div>"
      ],
      "text/plain": [
       "         open       close         low        high  volume\n",
       "0  123.430000  125.839996  122.309998  126.250000  2.1636\n",
       "1  125.239998  119.980003  119.940002  125.540001  2.3864\n",
       "2  116.379997  114.949997  114.930000  119.739998  2.4895\n",
       "3  115.480003  116.620003  113.500000  117.440002  2.0063\n",
       "4  117.010002  114.970001  114.089996  117.330002  1.4086"
      ]
     },
     "execution_count": 16,
     "metadata": {},
     "output_type": "execute_result"
    }
   ],
   "source": [
    "p_d_1000.head()"
   ]
  },
  {
   "cell_type": "code",
   "execution_count": 17,
   "metadata": {},
   "outputs": [
    {
     "data": {
      "text/plain": [
       "pandas.core.frame.DataFrame"
      ]
     },
     "execution_count": 17,
     "metadata": {},
     "output_type": "execute_result"
    }
   ],
   "source": [
    "type(p_d_1000)"
   ]
  },
  {
   "cell_type": "markdown",
   "metadata": {
    "colab_type": "text",
    "id": "M3UaApqYOB6x"
   },
   "source": [
    "### Divide the data into train and test sets"
   ]
  },
  {
   "cell_type": "code",
   "execution_count": 18,
   "metadata": {
    "colab": {},
    "colab_type": "code",
    "id": "4LE4U8lTdQJq"
   },
   "outputs": [],
   "source": [
    "from sklearn.model_selection import train_test_split"
   ]
  },
  {
   "cell_type": "code",
   "execution_count": 19,
   "metadata": {
    "scrolled": true
   },
   "outputs": [
    {
     "data": {
      "text/plain": [
       "(1000, 4)"
      ]
     },
     "execution_count": 19,
     "metadata": {},
     "output_type": "execute_result"
    },
    {
     "data": {
      "text/plain": [
       "(1000,)"
      ]
     },
     "execution_count": 19,
     "metadata": {},
     "output_type": "execute_result"
    }
   ],
   "source": [
    "X = p_d_1000.drop(labels='volume', axis=1)\n",
    "Y = p_d_1000['volume']\n",
    "X.shape\n",
    "Y.shape"
   ]
  },
  {
   "cell_type": "code",
   "execution_count": 20,
   "metadata": {},
   "outputs": [
    {
     "name": "stdout",
     "output_type": "stream",
     "text": [
      "X_train  (700, 4)\n",
      "X_test  (300, 4)\n",
      "Y_train  (700,)\n",
      "Y_test  (300,)\n"
     ]
    }
   ],
   "source": [
    "X_train, X_test, y_train, y_test = train_test_split(X, Y, test_size=0.30, random_state=1)\n",
    "print(\"X_train \", X_train.shape)\n",
    "print(\"X_test \", X_test.shape)\n",
    "print(\"Y_train \", y_train.shape)\n",
    "print(\"Y_test \", y_test.shape)"
   ]
  },
  {
   "cell_type": "code",
   "execution_count": 21,
   "metadata": {},
   "outputs": [
    {
     "data": {
      "text/plain": [
       "pandas.core.frame.DataFrame"
      ]
     },
     "execution_count": 21,
     "metadata": {},
     "output_type": "execute_result"
    },
    {
     "data": {
      "text/plain": [
       "pandas.core.series.Series"
      ]
     },
     "execution_count": 21,
     "metadata": {},
     "output_type": "execute_result"
    }
   ],
   "source": [
    "type(X)\n",
    "type(Y)"
   ]
  },
  {
   "cell_type": "markdown",
   "metadata": {
    "colab_type": "text",
    "id": "oYK-aUuLbrz2"
   },
   "source": [
    "#### Convert Training and Test Data to numpy float32 arrays\n"
   ]
  },
  {
   "cell_type": "code",
   "execution_count": 53,
   "metadata": {
    "colab": {},
    "colab_type": "code",
    "id": "Ao-S0tQGcncz"
   },
   "outputs": [
    {
     "name": "stdout",
     "output_type": "stream",
     "text": [
      "float32\n",
      "float32\n",
      "float32\n",
      "float32\n"
     ]
    }
   ],
   "source": [
    "train_x = np.float32(X_train)\n",
    "print(train_x.dtype)\n",
    "train_y = np.float32(y_train)\n",
    "print(train_y.dtype)\n",
    "test_x = np.float32(X_test)\n",
    "print(test_x.dtype)\n",
    "test_y = np.float32(y_test)\n",
    "print(test_y.dtype)"
   ]
  },
  {
   "cell_type": "markdown",
   "metadata": {
    "colab_type": "text",
    "id": "im1ZegbDdKgv"
   },
   "source": [
    "### Normalize the data\n",
    "You can use Normalizer from sklearn.preprocessing"
   ]
  },
  {
   "cell_type": "code",
   "execution_count": 56,
   "metadata": {},
   "outputs": [
    {
     "data": {
      "text/plain": [
       "(300, 4)"
      ]
     },
     "execution_count": 56,
     "metadata": {},
     "output_type": "execute_result"
    },
    {
     "data": {
      "text/plain": [
       "(300,)"
      ]
     },
     "execution_count": 56,
     "metadata": {},
     "output_type": "execute_result"
    }
   ],
   "source": [
    "from sklearn.preprocessing import StandardScaler\n",
    "sc = StandardScaler()\n",
    "train_x_fit = sc.fit(train_x)\n",
    "train_x = train_x_fit.transform(train_x)\n",
    "test_x_fit = sc.fit(test_x)\n",
    "test_x_std = test_x_fit.transform(test_x)\n",
    "\n",
    "test_x_std.shape\n",
    "test_y.shape"
   ]
  },
  {
   "cell_type": "code",
   "execution_count": 58,
   "metadata": {},
   "outputs": [
    {
     "name": "stdout",
     "output_type": "stream",
     "text": [
      "float32\n",
      "float32\n",
      "float32\n",
      "float32\n"
     ]
    }
   ],
   "source": [
    "train_x = np.float32(train_x)\n",
    "print(train_x.dtype)\n",
    "train_y = np.float32(train_y)\n",
    "print(train_y.dtype)\n",
    "test_x = np.float32(test_x)\n",
    "print(test_x.dtype)\n",
    "test_y = np.float32(test_y)\n",
    "print(test_y.dtype)"
   ]
  },
  {
   "cell_type": "markdown",
   "metadata": {
    "colab_type": "text",
    "id": "v6vE4eYCOB62",
    "slideshow": {
     "slide_type": "slide"
    }
   },
   "source": [
    "## Building the Model in tensorflow"
   ]
  },
  {
   "cell_type": "markdown",
   "metadata": {
    "colab_type": "text",
    "id": "297_qja4OB7A",
    "slideshow": {
     "slide_type": "slide"
    }
   },
   "source": [
    "1.Define Weights and Bias, use tf.zeros to initialize weights and Bias"
   ]
  },
  {
   "cell_type": "code",
   "execution_count": 60,
   "metadata": {},
   "outputs": [],
   "source": [
    "#Declare Weights and Bias\n",
    "\n",
    "w = tf.zeros(shape=(4,1))\n",
    "b = tf.zeros(shape=(1))"
   ]
  },
  {
   "cell_type": "markdown",
   "metadata": {
    "colab_type": "text",
    "id": "HgtWA-UIOB7F",
    "slideshow": {
     "slide_type": "slide"
    }
   },
   "source": [
    "2.Define a function to calculate prediction"
   ]
  },
  {
   "cell_type": "code",
   "execution_count": 61,
   "metadata": {
    "colab": {},
    "colab_type": "code",
    "id": "JveGlx25OB7H"
   },
   "outputs": [],
   "source": [
    "# y = wx + b\n",
    "\n",
    "def prediction(x, w, b):\n",
    "    xw_matmul = tf.matmul(x, w)\n",
    "    y = tf.add(xw_matmul, b)\n",
    "    \n",
    "    return y"
   ]
  },
  {
   "cell_type": "markdown",
   "metadata": {
    "colab_type": "text",
    "id": "TL1hIwf_OB7M",
    "slideshow": {
     "slide_type": "slide"
    }
   },
   "source": [
    "3.Loss (Cost) Function [Mean square error]"
   ]
  },
  {
   "cell_type": "code",
   "execution_count": 62,
   "metadata": {
    "colab": {},
    "colab_type": "code",
    "id": "8VSWPiGXOB7P"
   },
   "outputs": [],
   "source": [
    "#Define Loss\n",
    "\n",
    "def loss(y_actual, y_predicted):\n",
    "    \n",
    "    diff = y_actual - y_predicted\n",
    "    sqr = tf.square(diff)\n",
    "    avg = tf.reduce_mean(sqr)\n",
    "    \n",
    "    return avg"
   ]
  },
  {
   "cell_type": "markdown",
   "metadata": {
    "colab_type": "text",
    "id": "jzG85FUlOB7U",
    "slideshow": {
     "slide_type": "slide"
    }
   },
   "source": [
    "4.Function to train the Model\n",
    "\n",
    "1.   Record all the mathematical steps to calculate Loss\n",
    "2.   Calculate Gradients of Loss w.r.t weights and bias\n",
    "3.   Update Weights and Bias based on gradients and learning rate to minimize loss"
   ]
  },
  {
   "cell_type": "code",
   "execution_count": 63,
   "metadata": {},
   "outputs": [],
   "source": [
    "#Define Gradient Descent function\n",
    "\n",
    "def train(x, y_actual, w, b, learning_rate=0.01):\n",
    "    \n",
    "    #Record math ops on 'tape' to calculate loss\n",
    "    with tf.GradientTape() as t:\n",
    "        \n",
    "        t.watch([w,b])\n",
    "        \n",
    "        current_prediction = prediction(x, w, b)\n",
    "        current_loss = loss(y_actual, current_prediction)\n",
    "    \n",
    "    #Calculate Gradients for Loss w.r.t Weights and Bias\n",
    "    dw, db = t.gradient(current_loss,[w, b])\n",
    "    \n",
    "    #Update Weights and Bias\n",
    "    w = w - learning_rate*dw\n",
    "    b = b - learning_rate*db\n",
    "    \n",
    "    return w, b\n"
   ]
  },
  {
   "cell_type": "markdown",
   "metadata": {
    "colab_type": "text",
    "id": "xSypb_u8OB7e",
    "slideshow": {
     "slide_type": "slide"
    }
   },
   "source": [
    "## Train the model for 100 epochs \n",
    "1. Observe the training loss at every iteration\n",
    "2. Observe Test loss at every 5th iteration"
   ]
  },
  {
   "cell_type": "code",
   "execution_count": 64,
   "metadata": {},
   "outputs": [
    {
     "data": {
      "text/plain": [
       "dtype('float32')"
      ]
     },
     "execution_count": 64,
     "metadata": {},
     "output_type": "execute_result"
    },
    {
     "data": {
      "text/plain": [
       "numpy.ndarray"
      ]
     },
     "execution_count": 64,
     "metadata": {},
     "output_type": "execute_result"
    },
    {
     "data": {
      "text/plain": [
       "tensorflow.python.framework.ops.EagerTensor"
      ]
     },
     "execution_count": 64,
     "metadata": {},
     "output_type": "execute_result"
    },
    {
     "data": {
      "text/plain": [
       "tensorflow.python.framework.ops.EagerTensor"
      ]
     },
     "execution_count": 64,
     "metadata": {},
     "output_type": "execute_result"
    }
   ],
   "source": [
    "train_x.dtype\n",
    "type(train_y)\n",
    "type(w)\n",
    "type(b)"
   ]
  },
  {
   "cell_type": "code",
   "execution_count": 65,
   "metadata": {
    "colab": {},
    "colab_type": "code",
    "id": "DVvgj7eQOB7f"
   },
   "outputs": [
    {
     "name": "stdout",
     "output_type": "stream",
     "text": [
      "Current Loss on iteration 0 224.67271\n",
      "Current Loss on iteration 5 219.31863\n",
      "Current Loss on iteration 10 214.94376\n",
      "Current Loss on iteration 15 211.36942\n",
      "Current Loss on iteration 20 208.44868\n",
      "Current Loss on iteration 25 206.06247\n",
      "Current Loss on iteration 30 204.1128\n",
      "Current Loss on iteration 35 202.51955\n",
      "Current Loss on iteration 40 201.2179\n",
      "Current Loss on iteration 45 200.15422\n",
      "Current Loss on iteration 50 199.28517\n",
      "Current Loss on iteration 55 198.57532\n",
      "Current Loss on iteration 60 197.9949\n",
      "Current Loss on iteration 65 197.52095\n",
      "Current Loss on iteration 70 197.13365\n",
      "Current Loss on iteration 75 196.81714\n",
      "Current Loss on iteration 80 196.5585\n",
      "Current Loss on iteration 85 196.34721\n",
      "Current Loss on iteration 90 196.17462\n",
      "Current Loss on iteration 95 196.03357\n"
     ]
    }
   ],
   "source": [
    "#Training the model for 100 iterations\n",
    "\n",
    "for i in range(100):\n",
    "    \n",
    "    w, b = train(train_x, train_y, w, b)\n",
    "    if i % 5 == 0:\n",
    "        print('Current Loss on iteration', i, loss(train_y, prediction(train_x, w, b)).numpy())"
   ]
  },
  {
   "cell_type": "markdown",
   "metadata": {
    "colab_type": "text",
    "id": "DOL2ncA1OB7q"
   },
   "source": [
    "### Get the shapes and values of W and b"
   ]
  },
  {
   "cell_type": "code",
   "execution_count": 66,
   "metadata": {
    "colab": {},
    "colab_type": "code",
    "id": "ZGvtyTeuOB7r"
   },
   "outputs": [
    {
     "data": {
      "text/plain": [
       "TensorShape([Dimension(4), Dimension(1)])"
      ]
     },
     "execution_count": 66,
     "metadata": {},
     "output_type": "execute_result"
    },
    {
     "data": {
      "text/plain": [
       "<tf.Tensor: id=4505, shape=(4, 1), dtype=float32, numpy=\n",
       "array([[-2.0675364e-09],\n",
       "       [-3.9488079e-09],\n",
       "       [-3.8743018e-09],\n",
       "       [-2.9802314e-09]], dtype=float32)>"
      ]
     },
     "execution_count": 66,
     "metadata": {},
     "output_type": "execute_result"
    }
   ],
   "source": [
    "w.shape\n",
    "w"
   ]
  },
  {
   "cell_type": "code",
   "execution_count": 67,
   "metadata": {
    "colab": {},
    "colab_type": "code",
    "id": "vhDtOv5UOB7x"
   },
   "outputs": [
    {
     "data": {
      "text/plain": [
       "TensorShape([Dimension(1)])"
      ]
     },
     "execution_count": 67,
     "metadata": {},
     "output_type": "execute_result"
    },
    {
     "data": {
      "text/plain": [
       "<tf.Tensor: id=4508, shape=(1,), dtype=float32, numpy=array([4.788385], dtype=float32)>"
      ]
     },
     "execution_count": 67,
     "metadata": {},
     "output_type": "execute_result"
    }
   ],
   "source": [
    "b.shape\n",
    "b"
   ]
  },
  {
   "cell_type": "markdown",
   "metadata": {
    "colab_type": "text",
    "id": "ERq9GOKKciho"
   },
   "source": [
    "### Model Prediction on 1st Examples in Test Dataset"
   ]
  },
  {
   "cell_type": "code",
   "execution_count": 68,
   "metadata": {
    "colab": {},
    "colab_type": "code",
    "id": "gKGvUWahcihp"
   },
   "outputs": [
    {
     "data": {
      "text/plain": [
       "<tf.Tensor: id=4505, shape=(4, 1), dtype=float32, numpy=\n",
       "array([[-2.0675364e-09],\n",
       "       [-3.9488079e-09],\n",
       "       [-3.8743018e-09],\n",
       "       [-2.9802314e-09]], dtype=float32)>"
      ]
     },
     "execution_count": 68,
     "metadata": {},
     "output_type": "execute_result"
    },
    {
     "data": {
      "text/plain": [
       "<tf.Tensor: id=4508, shape=(1,), dtype=float32, numpy=array([4.788385], dtype=float32)>"
      ]
     },
     "execution_count": 68,
     "metadata": {},
     "output_type": "execute_result"
    }
   ],
   "source": [
    "w\n",
    "b"
   ]
  },
  {
   "cell_type": "code",
   "execution_count": 69,
   "metadata": {},
   "outputs": [
    {
     "data": {
      "text/plain": [
       "<tf.Tensor: id=4519, shape=(1,), dtype=float32, numpy=array([4.788385], dtype=float32)>"
      ]
     },
     "execution_count": 69,
     "metadata": {},
     "output_type": "execute_result"
    }
   ],
   "source": [
    "current_prediction = prediction(test_x, w, b)\n",
    "\n",
    "current_prediction[0]"
   ]
  },
  {
   "cell_type": "markdown",
   "metadata": {
    "colab_type": "text",
    "id": "YJRBuqXhOB7_"
   },
   "source": [
    "## Classification using tf.Keras\n",
    "\n",
    "In this exercise, we will build a Deep Neural Network using tf.Keras. We will use Iris Dataset for this exercise."
   ]
  },
  {
   "cell_type": "markdown",
   "metadata": {
    "colab_type": "text",
    "id": "sb7Epo0VOB58"
   },
   "source": [
    "### Load tensorflow if not done already"
   ]
  },
  {
   "cell_type": "markdown",
   "metadata": {
    "colab_type": "text",
    "id": "O0g6lorycihf"
   },
   "source": [
    "### Load the given Iris data using pandas (Iris.csv)"
   ]
  },
  {
   "cell_type": "code",
   "execution_count": 4,
   "metadata": {
    "colab": {},
    "colab_type": "code",
    "id": "6xFvb5sRcihg"
   },
   "outputs": [],
   "source": [
    "iris_df = pd.read_csv('Iris.csv')"
   ]
  },
  {
   "cell_type": "code",
   "execution_count": 5,
   "metadata": {},
   "outputs": [
    {
     "name": "stdout",
     "output_type": "stream",
     "text": [
      "<class 'pandas.core.frame.DataFrame'>\n",
      "RangeIndex: 150 entries, 0 to 149\n",
      "Data columns (total 6 columns):\n",
      "Id               150 non-null int64\n",
      "SepalLengthCm    150 non-null float64\n",
      "SepalWidthCm     150 non-null float64\n",
      "PetalLengthCm    150 non-null float64\n",
      "PetalWidthCm     150 non-null float64\n",
      "Species          150 non-null object\n",
      "dtypes: float64(4), int64(1), object(1)\n",
      "memory usage: 7.1+ KB\n"
     ]
    }
   ],
   "source": [
    "iris_df.info()"
   ]
  },
  {
   "cell_type": "code",
   "execution_count": 6,
   "metadata": {},
   "outputs": [
    {
     "data": {
      "text/plain": [
       "(150, 6)"
      ]
     },
     "execution_count": 6,
     "metadata": {},
     "output_type": "execute_result"
    },
    {
     "data": {
      "text/html": [
       "<div>\n",
       "<style scoped>\n",
       "    .dataframe tbody tr th:only-of-type {\n",
       "        vertical-align: middle;\n",
       "    }\n",
       "\n",
       "    .dataframe tbody tr th {\n",
       "        vertical-align: top;\n",
       "    }\n",
       "\n",
       "    .dataframe thead th {\n",
       "        text-align: right;\n",
       "    }\n",
       "</style>\n",
       "<table border=\"1\" class=\"dataframe\">\n",
       "  <thead>\n",
       "    <tr style=\"text-align: right;\">\n",
       "      <th></th>\n",
       "      <th>Id</th>\n",
       "      <th>SepalLengthCm</th>\n",
       "      <th>SepalWidthCm</th>\n",
       "      <th>PetalLengthCm</th>\n",
       "      <th>PetalWidthCm</th>\n",
       "      <th>Species</th>\n",
       "    </tr>\n",
       "  </thead>\n",
       "  <tbody>\n",
       "    <tr>\n",
       "      <th>0</th>\n",
       "      <td>1</td>\n",
       "      <td>5.1</td>\n",
       "      <td>3.5</td>\n",
       "      <td>1.4</td>\n",
       "      <td>0.2</td>\n",
       "      <td>Iris-setosa</td>\n",
       "    </tr>\n",
       "    <tr>\n",
       "      <th>1</th>\n",
       "      <td>2</td>\n",
       "      <td>4.9</td>\n",
       "      <td>3.0</td>\n",
       "      <td>1.4</td>\n",
       "      <td>0.2</td>\n",
       "      <td>Iris-setosa</td>\n",
       "    </tr>\n",
       "    <tr>\n",
       "      <th>2</th>\n",
       "      <td>3</td>\n",
       "      <td>4.7</td>\n",
       "      <td>3.2</td>\n",
       "      <td>1.3</td>\n",
       "      <td>0.2</td>\n",
       "      <td>Iris-setosa</td>\n",
       "    </tr>\n",
       "    <tr>\n",
       "      <th>3</th>\n",
       "      <td>4</td>\n",
       "      <td>4.6</td>\n",
       "      <td>3.1</td>\n",
       "      <td>1.5</td>\n",
       "      <td>0.2</td>\n",
       "      <td>Iris-setosa</td>\n",
       "    </tr>\n",
       "    <tr>\n",
       "      <th>4</th>\n",
       "      <td>5</td>\n",
       "      <td>5.0</td>\n",
       "      <td>3.6</td>\n",
       "      <td>1.4</td>\n",
       "      <td>0.2</td>\n",
       "      <td>Iris-setosa</td>\n",
       "    </tr>\n",
       "  </tbody>\n",
       "</table>\n",
       "</div>"
      ],
      "text/plain": [
       "   Id  SepalLengthCm  SepalWidthCm  PetalLengthCm  PetalWidthCm      Species\n",
       "0   1            5.1           3.5            1.4           0.2  Iris-setosa\n",
       "1   2            4.9           3.0            1.4           0.2  Iris-setosa\n",
       "2   3            4.7           3.2            1.3           0.2  Iris-setosa\n",
       "3   4            4.6           3.1            1.5           0.2  Iris-setosa\n",
       "4   5            5.0           3.6            1.4           0.2  Iris-setosa"
      ]
     },
     "execution_count": 6,
     "metadata": {},
     "output_type": "execute_result"
    }
   ],
   "source": [
    "iris_df.shape\n",
    "iris_df.head()"
   ]
  },
  {
   "cell_type": "markdown",
   "metadata": {
    "colab_type": "text",
    "id": "SAB--Qdwcihm"
   },
   "source": [
    "### Target set has different categories. So, Label encode them. And convert into one-hot vectors using get_dummies in pandas."
   ]
  },
  {
   "cell_type": "markdown",
   "metadata": {
    "colab_type": "text",
    "id": "D95nY5ILcihj"
   },
   "source": [
    "### Splitting the data into feature set and target set"
   ]
  },
  {
   "cell_type": "code",
   "execution_count": 7,
   "metadata": {},
   "outputs": [],
   "source": [
    "X = iris_df.iloc[:,1:5].values\n",
    "y = iris_df.iloc[:,5].values\n",
    "\n",
    "from sklearn.preprocessing import LabelEncoder\n",
    "encoder =  LabelEncoder()\n",
    "y1 = encoder.fit_transform(y)\n",
    "\n",
    "Y = pd.get_dummies(y1).values"
   ]
  },
  {
   "cell_type": "markdown",
   "metadata": {
    "colab_type": "text",
    "id": "ERq9GOKKciho"
   },
   "source": [
    "### Divide the dataset into Training and test (70:30)"
   ]
  },
  {
   "cell_type": "code",
   "execution_count": 8,
   "metadata": {
    "colab": {},
    "colab_type": "code",
    "id": "gKGvUWahcihp"
   },
   "outputs": [
    {
     "name": "stdout",
     "output_type": "stream",
     "text": [
      "X_train  (105, 4)\n",
      "X_test  (45, 4)\n",
      "Y_train  (105, 3)\n",
      "Y_test  (45, 3)\n"
     ]
    }
   ],
   "source": [
    "from sklearn.model_selection import train_test_split\n",
    "\n",
    "X_train, X_test, Y_train, Y_test = train_test_split(X, Y, test_size=0.30, random_state=1)\n",
    "print(\"X_train \", X_train.shape)\n",
    "print(\"X_test \", X_test.shape)\n",
    "print(\"Y_train \", Y_train.shape)\n",
    "print(\"Y_test \", Y_test.shape)"
   ]
  },
  {
   "cell_type": "markdown",
   "metadata": {
    "colab_type": "text",
    "id": "b22qpC5xcihr"
   },
   "source": [
    "###  Building Model in tf.keras\n",
    "\n",
    "Build a Linear Classifier model  <br>\n",
    "1.  Use Dense Layer  with input shape of 4 (according to the feature set) and number of outputs set to 3<br> \n",
    "2. Apply Softmax on Dense Layer outputs <br>\n",
    "3. Use SGD as Optimizer\n",
    "4. Use categorical_crossentropy as loss function "
   ]
  },
  {
   "cell_type": "code",
   "execution_count": 9,
   "metadata": {},
   "outputs": [
    {
     "name": "stderr",
     "output_type": "stream",
     "text": [
      "Using TensorFlow backend.\n"
     ]
    }
   ],
   "source": [
    "from keras.models import Sequential\n",
    "from keras.layers import Dense"
   ]
  },
  {
   "cell_type": "code",
   "execution_count": 10,
   "metadata": {},
   "outputs": [
    {
     "name": "stdout",
     "output_type": "stream",
     "text": [
      "WARNING:tensorflow:From C:\\Users\\varuraje.ORADEV\\AppData\\Local\\Continuum\\anaconda3\\lib\\site-packages\\tensorflow\\python\\framework\\op_def_library.py:263: colocate_with (from tensorflow.python.framework.ops) is deprecated and will be removed in a future version.\n",
      "Instructions for updating:\n",
      "Colocations handled automatically by placer.\n",
      "_________________________________________________________________\n",
      "Layer (type)                 Output Shape              Param #   \n",
      "=================================================================\n",
      "dense_1 (Dense)              (None, 10)                50        \n",
      "_________________________________________________________________\n",
      "dense_2 (Dense)              (None, 8)                 88        \n",
      "_________________________________________________________________\n",
      "dense_3 (Dense)              (None, 6)                 54        \n",
      "_________________________________________________________________\n",
      "dense_4 (Dense)              (None, 3)                 21        \n",
      "=================================================================\n",
      "Total params: 213\n",
      "Trainable params: 213\n",
      "Non-trainable params: 0\n",
      "_________________________________________________________________\n"
     ]
    }
   ],
   "source": [
    "# Create model\n",
    "model = Sequential()\n",
    "\n",
    "model.add(Dense(10,input_shape=(4,),activation='relu'))\n",
    "model.add(Dense(8,activation='relu'))\n",
    "model.add(Dense(6,activation='relu'))\n",
    "model.add(Dense(3,activation='softmax'))\n",
    "\n",
    "#model.compile(Adam(lr=0.04),'categorical_crossentropy',metrics=['accuracy'])\n",
    "model.compile(loss='categorical_crossentropy', optimizer='sgd', metrics=['accuracy'])\n",
    "\n",
    "model.summary()"
   ]
  },
  {
   "cell_type": "markdown",
   "metadata": {
    "colab_type": "text",
    "id": "T5FdzqIKcihw"
   },
   "source": [
    "### Model Training "
   ]
  },
  {
   "cell_type": "code",
   "execution_count": 11,
   "metadata": {},
   "outputs": [
    {
     "name": "stdout",
     "output_type": "stream",
     "text": [
      "WARNING:tensorflow:From C:\\Users\\varuraje.ORADEV\\AppData\\Local\\Continuum\\anaconda3\\lib\\site-packages\\tensorflow\\python\\ops\\math_ops.py:3066: to_int32 (from tensorflow.python.ops.math_ops) is deprecated and will be removed in a future version.\n",
      "Instructions for updating:\n",
      "Use tf.cast instead.\n",
      "Epoch 1/100\n",
      "105/105 [==============================] - 0s 2ms/step - loss: 1.1513 - acc: 0.3429\n",
      "Epoch 2/100\n",
      "105/105 [==============================] - 0s 76us/step - loss: 1.1340 - acc: 0.3429\n",
      "Epoch 3/100\n",
      "105/105 [==============================] - 0s 66us/step - loss: 1.1261 - acc: 0.3429\n",
      "Epoch 4/100\n",
      "105/105 [==============================] - 0s 95us/step - loss: 1.1188 - acc: 0.3429\n",
      "Epoch 5/100\n",
      "105/105 [==============================] - 0s 66us/step - loss: 1.1145 - acc: 0.3429\n",
      "Epoch 6/100\n",
      "105/105 [==============================] - 0s 85us/step - loss: 1.1108 - acc: 0.3333\n",
      "Epoch 7/100\n",
      "105/105 [==============================] - 0s 66us/step - loss: 1.1079 - acc: 0.3333\n",
      "Epoch 8/100\n",
      "105/105 [==============================] - 0s 104us/step - loss: 1.1054 - acc: 0.3238\n",
      "Epoch 9/100\n",
      "105/105 [==============================] - 0s 76us/step - loss: 1.1035 - acc: 0.3238\n",
      "Epoch 10/100\n",
      "105/105 [==============================] - 0s 76us/step - loss: 1.1025 - acc: 0.3333\n",
      "Epoch 11/100\n",
      "105/105 [==============================] - 0s 95us/step - loss: 1.1006 - acc: 0.3238\n",
      "Epoch 12/100\n",
      "105/105 [==============================] - 0s 66us/step - loss: 1.0993 - acc: 0.3238\n",
      "Epoch 13/100\n",
      "105/105 [==============================] - 0s 66us/step - loss: 1.0984 - acc: 0.3429\n",
      "Epoch 14/100\n",
      "105/105 [==============================] - 0s 95us/step - loss: 1.0969 - acc: 0.3429\n",
      "Epoch 15/100\n",
      "105/105 [==============================] - 0s 66us/step - loss: 1.0960 - acc: 0.3429\n",
      "Epoch 16/100\n",
      "105/105 [==============================] - 0s 66us/step - loss: 1.0955 - acc: 0.3429\n",
      "Epoch 17/100\n",
      "105/105 [==============================] - 0s 57us/step - loss: 1.0946 - acc: 0.3429\n",
      "Epoch 18/100\n",
      "105/105 [==============================] - 0s 57us/step - loss: 1.0932 - acc: 0.3429\n",
      "Epoch 19/100\n",
      "105/105 [==============================] - 0s 66us/step - loss: 1.0922 - acc: 0.3429\n",
      "Epoch 20/100\n",
      "105/105 [==============================] - 0s 57us/step - loss: 1.0914 - acc: 0.3429\n",
      "Epoch 21/100\n",
      "105/105 [==============================] - 0s 66us/step - loss: 1.0900 - acc: 0.3429\n",
      "Epoch 22/100\n",
      "105/105 [==============================] - 0s 66us/step - loss: 1.0892 - acc: 0.3429\n",
      "Epoch 23/100\n",
      "105/105 [==============================] - 0s 57us/step - loss: 1.0882 - acc: 0.3429\n",
      "Epoch 24/100\n",
      "105/105 [==============================] - 0s 66us/step - loss: 1.0878 - acc: 0.3429\n",
      "Epoch 25/100\n",
      "105/105 [==============================] - 0s 66us/step - loss: 1.0865 - acc: 0.3429\n",
      "Epoch 26/100\n",
      "105/105 [==============================] - 0s 66us/step - loss: 1.0854 - acc: 0.3619\n",
      "Epoch 27/100\n",
      "105/105 [==============================] - 0s 66us/step - loss: 1.0844 - acc: 0.3714\n",
      "Epoch 28/100\n",
      "105/105 [==============================] - 0s 67us/step - loss: 1.0837 - acc: 0.3905\n",
      "Epoch 29/100\n",
      "105/105 [==============================] - 0s 66us/step - loss: 1.0828 - acc: 0.3810\n",
      "Epoch 30/100\n",
      "105/105 [==============================] - 0s 104us/step - loss: 1.0819 - acc: 0.4286\n",
      "Epoch 31/100\n",
      "105/105 [==============================] - 0s 76us/step - loss: 1.0809 - acc: 0.4381\n",
      "Epoch 32/100\n",
      "105/105 [==============================] - 0s 76us/step - loss: 1.0802 - acc: 0.4857\n",
      "Epoch 33/100\n",
      "105/105 [==============================] - 0s 66us/step - loss: 1.0792 - acc: 0.4857\n",
      "Epoch 34/100\n",
      "105/105 [==============================] - 0s 76us/step - loss: 1.0782 - acc: 0.5238\n",
      "Epoch 35/100\n",
      "105/105 [==============================] - 0s 57us/step - loss: 1.0773 - acc: 0.5714\n",
      "Epoch 36/100\n",
      "105/105 [==============================] - 0s 76us/step - loss: 1.0767 - acc: 0.5333\n",
      "Epoch 37/100\n",
      "105/105 [==============================] - 0s 66us/step - loss: 1.0755 - acc: 0.5524\n",
      "Epoch 38/100\n",
      "105/105 [==============================] - 0s 76us/step - loss: 1.0747 - acc: 0.6476\n",
      "Epoch 39/100\n",
      "105/105 [==============================] - 0s 104us/step - loss: 1.0734 - acc: 0.6476\n",
      "Epoch 40/100\n",
      "105/105 [==============================] - 0s 85us/step - loss: 1.0725 - acc: 0.6286\n",
      "Epoch 41/100\n",
      "105/105 [==============================] - 0s 114us/step - loss: 1.0712 - acc: 0.6571\n",
      "Epoch 42/100\n",
      "105/105 [==============================] - 0s 76us/step - loss: 1.0701 - acc: 0.6857\n",
      "Epoch 43/100\n",
      "105/105 [==============================] - 0s 66us/step - loss: 1.0690 - acc: 0.6857\n",
      "Epoch 44/100\n",
      "105/105 [==============================] - 0s 114us/step - loss: 1.0681 - acc: 0.6857\n",
      "Epoch 45/100\n",
      "105/105 [==============================] - 0s 66us/step - loss: 1.0668 - acc: 0.6857\n",
      "Epoch 46/100\n",
      "105/105 [==============================] - 0s 76us/step - loss: 1.0655 - acc: 0.6857\n",
      "Epoch 47/100\n",
      "105/105 [==============================] - 0s 67us/step - loss: 1.0648 - acc: 0.6476\n",
      "Epoch 48/100\n",
      "105/105 [==============================] - 0s 67us/step - loss: 1.0630 - acc: 0.6857\n",
      "Epoch 49/100\n",
      "105/105 [==============================] - 0s 105us/step - loss: 1.0615 - acc: 0.6857\n",
      "Epoch 50/100\n",
      "105/105 [==============================] - 0s 104us/step - loss: 1.0603 - acc: 0.6952\n",
      "Epoch 51/100\n",
      "105/105 [==============================] - 0s 76us/step - loss: 1.0591 - acc: 0.6952\n",
      "Epoch 52/100\n",
      "105/105 [==============================] - 0s 66us/step - loss: 1.0576 - acc: 0.6952\n",
      "Epoch 53/100\n",
      "105/105 [==============================] - 0s 66us/step - loss: 1.0559 - acc: 0.6952\n",
      "Epoch 54/100\n",
      "105/105 [==============================] - 0s 104us/step - loss: 1.0544 - acc: 0.6952\n",
      "Epoch 55/100\n",
      "105/105 [==============================] - 0s 76us/step - loss: 1.0535 - acc: 0.6952\n",
      "Epoch 56/100\n",
      "105/105 [==============================] - 0s 57us/step - loss: 1.0518 - acc: 0.6952\n",
      "Epoch 57/100\n",
      "105/105 [==============================] - 0s 66us/step - loss: 1.0507 - acc: 0.6952\n",
      "Epoch 58/100\n",
      "105/105 [==============================] - 0s 66us/step - loss: 1.0496 - acc: 0.6952\n",
      "Epoch 59/100\n",
      "105/105 [==============================] - 0s 95us/step - loss: 1.0474 - acc: 0.6952\n",
      "Epoch 60/100\n",
      "105/105 [==============================] - 0s 66us/step - loss: 1.0451 - acc: 0.6952\n",
      "Epoch 61/100\n",
      "105/105 [==============================] - 0s 66us/step - loss: 1.0433 - acc: 0.6952\n",
      "Epoch 62/100\n",
      "105/105 [==============================] - 0s 66us/step - loss: 1.0412 - acc: 0.6952\n",
      "Epoch 63/100\n",
      "105/105 [==============================] - 0s 86us/step - loss: 1.0393 - acc: 0.6952\n",
      "Epoch 64/100\n",
      "105/105 [==============================] - 0s 85us/step - loss: 1.0375 - acc: 0.6952\n",
      "Epoch 65/100\n",
      "105/105 [==============================] - 0s 66us/step - loss: 1.0350 - acc: 0.6952\n",
      "Epoch 66/100\n",
      "105/105 [==============================] - 0s 114us/step - loss: 1.0324 - acc: 0.6952\n",
      "Epoch 67/100\n",
      "105/105 [==============================] - 0s 85us/step - loss: 1.0304 - acc: 0.6952\n",
      "Epoch 68/100\n",
      "105/105 [==============================] - 0s 57us/step - loss: 1.0284 - acc: 0.6952\n",
      "Epoch 69/100\n",
      "105/105 [==============================] - 0s 66us/step - loss: 1.0263 - acc: 0.6952\n",
      "Epoch 70/100\n",
      "105/105 [==============================] - 0s 57us/step - loss: 1.0229 - acc: 0.6952\n",
      "Epoch 71/100\n",
      "105/105 [==============================] - 0s 66us/step - loss: 1.0203 - acc: 0.6952\n",
      "Epoch 72/100\n",
      "105/105 [==============================] - 0s 180us/step - loss: 1.0175 - acc: 0.6952\n",
      "Epoch 73/100\n",
      "105/105 [==============================] - 0s 104us/step - loss: 1.0145 - acc: 0.6952\n",
      "Epoch 74/100\n",
      "105/105 [==============================] - 0s 85us/step - loss: 1.0116 - acc: 0.6952\n",
      "Epoch 75/100\n",
      "105/105 [==============================] - 0s 76us/step - loss: 1.0089 - acc: 0.6952\n",
      "Epoch 76/100\n",
      "105/105 [==============================] - 0s 76us/step - loss: 1.0057 - acc: 0.6952\n",
      "Epoch 77/100\n",
      "105/105 [==============================] - 0s 104us/step - loss: 1.0036 - acc: 0.6952\n",
      "Epoch 78/100\n",
      "105/105 [==============================] - 0s 76us/step - loss: 0.9987 - acc: 0.6952\n",
      "Epoch 79/100\n",
      "105/105 [==============================] - 0s 76us/step - loss: 0.9952 - acc: 0.6952\n",
      "Epoch 80/100\n",
      "105/105 [==============================] - 0s 76us/step - loss: 0.9917 - acc: 0.6952\n",
      "Epoch 81/100\n"
     ]
    },
    {
     "name": "stdout",
     "output_type": "stream",
     "text": [
      "105/105 [==============================] - 0s 67us/step - loss: 0.9876 - acc: 0.6952\n",
      "Epoch 82/100\n",
      "105/105 [==============================] - 0s 86us/step - loss: 0.9832 - acc: 0.6952\n",
      "Epoch 83/100\n",
      "105/105 [==============================] - 0s 95us/step - loss: 0.9791 - acc: 0.6952\n",
      "Epoch 84/100\n",
      "105/105 [==============================] - 0s 67us/step - loss: 0.9742 - acc: 0.6952\n",
      "Epoch 85/100\n",
      "105/105 [==============================] - 0s 76us/step - loss: 0.9687 - acc: 0.6952\n",
      "Epoch 86/100\n",
      "105/105 [==============================] - 0s 66us/step - loss: 0.9634 - acc: 0.6952\n",
      "Epoch 87/100\n",
      "105/105 [==============================] - 0s 85us/step - loss: 0.9581 - acc: 0.6952\n",
      "Epoch 88/100\n",
      "105/105 [==============================] - 0s 85us/step - loss: 0.9532 - acc: 0.6952\n",
      "Epoch 89/100\n",
      "105/105 [==============================] - 0s 76us/step - loss: 0.9472 - acc: 0.6952\n",
      "Epoch 90/100\n",
      "105/105 [==============================] - 0s 95us/step - loss: 0.9405 - acc: 0.6952\n",
      "Epoch 91/100\n",
      "105/105 [==============================] - 0s 114us/step - loss: 0.9344 - acc: 0.6952\n",
      "Epoch 92/100\n",
      "105/105 [==============================] - 0s 76us/step - loss: 0.9277 - acc: 0.6952\n",
      "Epoch 93/100\n",
      "105/105 [==============================] - 0s 76us/step - loss: 0.9213 - acc: 0.6952\n",
      "Epoch 94/100\n",
      "105/105 [==============================] - 0s 57us/step - loss: 0.9130 - acc: 0.6952\n",
      "Epoch 95/100\n",
      "105/105 [==============================] - 0s 76us/step - loss: 0.9055 - acc: 0.6952\n",
      "Epoch 96/100\n",
      "105/105 [==============================] - 0s 76us/step - loss: 0.8984 - acc: 0.6952\n",
      "Epoch 97/100\n",
      "105/105 [==============================] - 0s 76us/step - loss: 0.8887 - acc: 0.6952\n",
      "Epoch 98/100\n",
      "105/105 [==============================] - 0s 85us/step - loss: 0.8791 - acc: 0.6952\n",
      "Epoch 99/100\n",
      "105/105 [==============================] - 0s 95us/step - loss: 0.8699 - acc: 0.6952\n",
      "Epoch 100/100\n",
      "105/105 [==============================] - 0s 105us/step - loss: 0.8612 - acc: 0.6952\n"
     ]
    },
    {
     "data": {
      "text/plain": [
       "<keras.callbacks.History at 0x1aeef661860>"
      ]
     },
     "execution_count": 11,
     "metadata": {},
     "output_type": "execute_result"
    }
   ],
   "source": [
    "#fitting the model and predicting \n",
    "model.fit(X_train,Y_train,epochs=100)\n"
   ]
  },
  {
   "cell_type": "code",
   "execution_count": 12,
   "metadata": {},
   "outputs": [],
   "source": [
    "#model.fit(X_train, Y_train, validation_split=0.3, epochs=10, batch_size=1)"
   ]
  },
  {
   "cell_type": "markdown",
   "metadata": {
    "colab_type": "text",
    "id": "y-SgSSdRcih5"
   },
   "source": [
    "### Model Prediction"
   ]
  },
  {
   "cell_type": "code",
   "execution_count": 13,
   "metadata": {},
   "outputs": [],
   "source": [
    "from sklearn import metrics"
   ]
  },
  {
   "cell_type": "code",
   "execution_count": 14,
   "metadata": {},
   "outputs": [],
   "source": [
    "y_pred = model.predict(X_test)\n",
    "\n",
    "y_test_class = np.argmax(Y_test,axis=1)\n",
    "y_pred_class = np.argmax(y_pred,axis=1)"
   ]
  },
  {
   "cell_type": "code",
   "execution_count": 15,
   "metadata": {},
   "outputs": [
    {
     "name": "stdout",
     "output_type": "stream",
     "text": [
      "0.6\n"
     ]
    }
   ],
   "source": [
    "#y_predict=model.predict(X_test)\n",
    "print(metrics.accuracy_score(y_test_class,y_pred_class))\n"
   ]
  },
  {
   "cell_type": "code",
   "execution_count": 16,
   "metadata": {},
   "outputs": [
    {
     "name": "stdout",
     "output_type": "stream",
     "text": [
      "             precision    recall  f1-score   support\n",
      "\n",
      "          0       0.93      1.00      0.97        14\n",
      "          1       0.00      0.00      0.00        18\n",
      "          2       0.43      1.00      0.60        13\n",
      "\n",
      "avg / total       0.42      0.60      0.48        45\n",
      "\n",
      "[[14  0  0]\n",
      " [ 1  0 17]\n",
      " [ 0  0 13]]\n"
     ]
    }
   ],
   "source": [
    "#Accuracy of the predicted values\n",
    "from sklearn.metrics import classification_report,confusion_matrix\n",
    "print(classification_report(y_test_class,y_pred_class))\n",
    "print(confusion_matrix(y_test_class,y_pred_class))"
   ]
  },
  {
   "cell_type": "markdown",
   "metadata": {
    "colab_type": "text",
    "id": "P32ASP1Vjt0a"
   },
   "source": [
    "### Save the Model"
   ]
  },
  {
   "cell_type": "code",
   "execution_count": 18,
   "metadata": {
    "colab": {},
    "colab_type": "code",
    "id": "n8rd0jjAjyTR"
   },
   "outputs": [],
   "source": [
    "model.save('internal_tf_keras.h5')"
   ]
  },
  {
   "cell_type": "markdown",
   "metadata": {
    "colab_type": "text",
    "id": "XiipRpe7rbVh"
   },
   "source": [
    "### Build and Train a Deep Neural network with 2 hidden layer  - Optional - For Practice\n",
    "\n",
    "Does it perform better than Linear Classifier? What could be the reason for difference in performance?"
   ]
  },
  {
   "cell_type": "code",
   "execution_count": null,
   "metadata": {
    "colab": {},
    "colab_type": "code",
    "id": "v5Du3lubr4sA"
   },
   "outputs": [],
   "source": []
  }
 ],
 "metadata": {
  "colab": {
   "name": "3. R6_InternalLab_AIML_Share_Prices-Eager Execution.ipynb",
   "provenance": [],
   "version": "0.3.2"
  },
  "kernelspec": {
   "display_name": "Python 3",
   "language": "python",
   "name": "python3"
  },
  "language_info": {
   "codemirror_mode": {
    "name": "ipython",
    "version": 3
   },
   "file_extension": ".py",
   "mimetype": "text/x-python",
   "name": "python",
   "nbconvert_exporter": "python",
   "pygments_lexer": "ipython3",
   "version": "3.7.0"
  }
 },
 "nbformat": 4,
 "nbformat_minor": 1
}
