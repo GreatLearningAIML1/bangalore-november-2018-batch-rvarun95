{
 "cells": [
  {
   "cell_type": "markdown",
   "metadata": {},
   "source": [
    "## Lab Brief - Statistical Learning with Python"
   ]
  },
  {
   "cell_type": "markdown",
   "metadata": {},
   "source": [
    "### Part-1"
   ]
  },
  {
   "cell_type": "markdown",
   "metadata": {},
   "source": [
    "## Measures of Data"
   ]
  },
  {
   "cell_type": "markdown",
   "metadata": {},
   "source": [
    "Descriptive Statistcs are measures that summarize important features of data. Producing these descriptive statistics is a common first step to take after cleaning and preparing a dataset for further analysis. Examples are like calculating Mean or Median. In this lab, we will be looking into some of these functions and explore several new ones."
   ]
  },
  {
   "cell_type": "markdown",
   "metadata": {},
   "source": [
    "#### Measures of Central Tendency"
   ]
  },
  {
   "cell_type": "markdown",
   "metadata": {},
   "source": [
    "Whenever you measure things of the same kind, a fairly large number of such measurements will tend to cluster around the middle value. Such a value is called a measure of \"Central Tendency\". The other terms that are used synonymously are \"Measures of Location\", or \"Statistical Averages\". "
   ]
  },
  {
   "cell_type": "code",
   "execution_count": 9,
   "metadata": {},
   "outputs": [],
   "source": [
    "import numpy as np\n",
    "import pandas as pd\n",
    "import matplotlib.pyplot as plt\n",
    "\n",
    "mtcars = pd.read_csv('mtcars.csv')"
   ]
  },
  {
   "cell_type": "markdown",
   "metadata": {},
   "source": [
    "##### Using the mtcars dataset.\n",
    "\n",
    "For the below set of questions, we will be using the cars data from [Motor Trend Car Road Tests](http://stat.ethz.ch/R-manual/R-devel/library/datasets/html/mtcars.html)\n",
    "\n",
    "The data was extracted from the 1974 Motor Trend US magazine, and comprises fuel consumption and 10 aspects of automobile design and performance for 32 automobiles (1973–74 models). \n",
    "\n",
    "\n",
    "Details :\n",
    "    \n",
    "A data frame with 32 observations on 11 (numeric) variables.\n",
    "\n",
    "[, 1] \tmpg \tMiles/(US) gallon\n",
    "\n",
    "[, 2] \tcyl \tNumber of cylinders\n",
    "\n",
    "[, 3] \tdisp \tDisplacement (cu.in.)\n",
    "\n",
    "[, 4] \thp \tGross horsepower\n",
    "\n",
    "[, 5] \tdrat \tRear axle ratio\n",
    "\n",
    "[, 6] \twt \tWeight (1000 lbs)\n",
    "\n",
    "[, 7] \tqsec \t1/4 mile time\n",
    "\n",
    "[, 8] \tvs \tEngine (0 = V-shaped, 1 = straight)\n",
    "\n",
    "[, 9] \tam \tTransmission (0 = automatic, 1 = manual)\n",
    "\n",
    "[,10] \tgear \tNumber of forward gears\n",
    "\n",
    "[,11] \tcarb \tNumber of carburetors "
   ]
  },
  {
   "cell_type": "markdown",
   "metadata": {},
   "source": [
    "#### Explore the data - Setting the index"
   ]
  },
  {
   "cell_type": "code",
   "execution_count": 49,
   "metadata": {},
   "outputs": [
    {
     "data": {
      "text/html": [
       "<div>\n",
       "<style scoped>\n",
       "    .dataframe tbody tr th:only-of-type {\n",
       "        vertical-align: middle;\n",
       "    }\n",
       "\n",
       "    .dataframe tbody tr th {\n",
       "        vertical-align: top;\n",
       "    }\n",
       "\n",
       "    .dataframe thead th {\n",
       "        text-align: right;\n",
       "    }\n",
       "</style>\n",
       "<table border=\"1\" class=\"dataframe\">\n",
       "  <thead>\n",
       "    <tr style=\"text-align: right;\">\n",
       "      <th></th>\n",
       "      <th>name</th>\n",
       "      <th>mpg</th>\n",
       "      <th>cyl</th>\n",
       "      <th>disp</th>\n",
       "      <th>hp</th>\n",
       "      <th>drat</th>\n",
       "      <th>wt</th>\n",
       "      <th>qsec</th>\n",
       "      <th>vs</th>\n",
       "      <th>am</th>\n",
       "      <th>gear</th>\n",
       "      <th>carb</th>\n",
       "    </tr>\n",
       "    <tr>\n",
       "      <th>name</th>\n",
       "      <th></th>\n",
       "      <th></th>\n",
       "      <th></th>\n",
       "      <th></th>\n",
       "      <th></th>\n",
       "      <th></th>\n",
       "      <th></th>\n",
       "      <th></th>\n",
       "      <th></th>\n",
       "      <th></th>\n",
       "      <th></th>\n",
       "      <th></th>\n",
       "    </tr>\n",
       "  </thead>\n",
       "  <tbody>\n",
       "    <tr>\n",
       "      <th>Mazda RX4</th>\n",
       "      <td>Mazda RX4</td>\n",
       "      <td>21.0</td>\n",
       "      <td>6</td>\n",
       "      <td>160.0</td>\n",
       "      <td>110</td>\n",
       "      <td>3.90</td>\n",
       "      <td>2.620</td>\n",
       "      <td>16.46</td>\n",
       "      <td>0</td>\n",
       "      <td>1</td>\n",
       "      <td>4</td>\n",
       "      <td>4</td>\n",
       "    </tr>\n",
       "    <tr>\n",
       "      <th>Mazda RX4 Wag</th>\n",
       "      <td>Mazda RX4 Wag</td>\n",
       "      <td>21.0</td>\n",
       "      <td>6</td>\n",
       "      <td>160.0</td>\n",
       "      <td>110</td>\n",
       "      <td>3.90</td>\n",
       "      <td>2.875</td>\n",
       "      <td>17.02</td>\n",
       "      <td>0</td>\n",
       "      <td>1</td>\n",
       "      <td>4</td>\n",
       "      <td>4</td>\n",
       "    </tr>\n",
       "    <tr>\n",
       "      <th>Datsun 710</th>\n",
       "      <td>Datsun 710</td>\n",
       "      <td>22.8</td>\n",
       "      <td>4</td>\n",
       "      <td>108.0</td>\n",
       "      <td>93</td>\n",
       "      <td>3.85</td>\n",
       "      <td>2.320</td>\n",
       "      <td>18.61</td>\n",
       "      <td>1</td>\n",
       "      <td>1</td>\n",
       "      <td>4</td>\n",
       "      <td>1</td>\n",
       "    </tr>\n",
       "    <tr>\n",
       "      <th>Hornet 4 Drive</th>\n",
       "      <td>Hornet 4 Drive</td>\n",
       "      <td>21.4</td>\n",
       "      <td>6</td>\n",
       "      <td>258.0</td>\n",
       "      <td>110</td>\n",
       "      <td>3.08</td>\n",
       "      <td>3.215</td>\n",
       "      <td>19.44</td>\n",
       "      <td>1</td>\n",
       "      <td>0</td>\n",
       "      <td>3</td>\n",
       "      <td>1</td>\n",
       "    </tr>\n",
       "    <tr>\n",
       "      <th>Hornet Sportabout</th>\n",
       "      <td>Hornet Sportabout</td>\n",
       "      <td>18.7</td>\n",
       "      <td>8</td>\n",
       "      <td>360.0</td>\n",
       "      <td>175</td>\n",
       "      <td>3.15</td>\n",
       "      <td>3.440</td>\n",
       "      <td>17.02</td>\n",
       "      <td>0</td>\n",
       "      <td>0</td>\n",
       "      <td>3</td>\n",
       "      <td>2</td>\n",
       "    </tr>\n",
       "  </tbody>\n",
       "</table>\n",
       "</div>"
      ],
      "text/plain": [
       "                                name   mpg  cyl   disp   hp  drat     wt  \\\n",
       "name                                                                       \n",
       "Mazda RX4                  Mazda RX4  21.0    6  160.0  110  3.90  2.620   \n",
       "Mazda RX4 Wag          Mazda RX4 Wag  21.0    6  160.0  110  3.90  2.875   \n",
       "Datsun 710                Datsun 710  22.8    4  108.0   93  3.85  2.320   \n",
       "Hornet 4 Drive        Hornet 4 Drive  21.4    6  258.0  110  3.08  3.215   \n",
       "Hornet Sportabout  Hornet Sportabout  18.7    8  360.0  175  3.15  3.440   \n",
       "\n",
       "                    qsec  vs  am  gear  carb  \n",
       "name                                          \n",
       "Mazda RX4          16.46   0   1     4     4  \n",
       "Mazda RX4 Wag      17.02   0   1     4     4  \n",
       "Datsun 710         18.61   1   1     4     1  \n",
       "Hornet 4 Drive     19.44   1   0     3     1  \n",
       "Hornet Sportabout  17.02   0   0     3     2  "
      ]
     },
     "execution_count": 49,
     "metadata": {},
     "output_type": "execute_result"
    }
   ],
   "source": [
    "mtcars.index = mtcars[\"name\"]\n",
    "mtcars.head()\n",
    "# mtcars.mean() #By default this will give the mean of each column"
   ]
  },
  {
   "cell_type": "code",
   "execution_count": 50,
   "metadata": {},
   "outputs": [
    {
     "data": {
      "text/plain": [
       "mpg      20.090625\n",
       "cyl       6.187500\n",
       "disp    230.721875\n",
       "hp      146.687500\n",
       "drat      3.596563\n",
       "wt        3.217250\n",
       "qsec     17.848750\n",
       "vs        0.437500\n",
       "am        0.406250\n",
       "gear      3.687500\n",
       "carb      2.812500\n",
       "dtype: float64"
      ]
     },
     "execution_count": 50,
     "metadata": {},
     "output_type": "execute_result"
    }
   ],
   "source": [
    "mtcars.mean()"
   ]
  },
  {
   "cell_type": "markdown",
   "metadata": {},
   "source": [
    "### Question 1\n",
    "\n",
    "What is the first car name given in mtcars?\n",
    "\n",
    "** Make use of index which has been set previously **\n",
    "\n",
    "**Hint**: Use .loc function\n"
   ]
  },
  {
   "cell_type": "code",
   "execution_count": 51,
   "metadata": {
    "scrolled": true
   },
   "outputs": [
    {
     "data": {
      "text/plain": [
       "name\n",
       "Mazda RX4    Mazda RX4\n",
       "Name: name, dtype: object"
      ]
     },
     "execution_count": 51,
     "metadata": {},
     "output_type": "execute_result"
    }
   ],
   "source": [
    "mtcars.iloc[0:1].loc[:, \"name\"]"
   ]
  },
  {
   "cell_type": "code",
   "execution_count": 52,
   "metadata": {},
   "outputs": [
    {
     "data": {
      "text/plain": [
       "'Mazda RX4'"
      ]
     },
     "execution_count": 52,
     "metadata": {},
     "output_type": "execute_result"
    }
   ],
   "source": [
    "mtcars[\"name\"][0]"
   ]
  },
  {
   "cell_type": "markdown",
   "metadata": {},
   "source": [
    "### Question 2\n",
    "What is the highest difference between the hp and cyl?\n",
    "\n",
    "**Hint:** You can use **max()** function to find the difference"
   ]
  },
  {
   "cell_type": "code",
   "execution_count": 86,
   "metadata": {},
   "outputs": [
    {
     "data": {
      "text/html": [
       "<div>\n",
       "<style scoped>\n",
       "    .dataframe tbody tr th:only-of-type {\n",
       "        vertical-align: middle;\n",
       "    }\n",
       "\n",
       "    .dataframe tbody tr th {\n",
       "        vertical-align: top;\n",
       "    }\n",
       "\n",
       "    .dataframe thead th {\n",
       "        text-align: right;\n",
       "    }\n",
       "</style>\n",
       "<table border=\"1\" class=\"dataframe\">\n",
       "  <thead>\n",
       "    <tr style=\"text-align: right;\">\n",
       "      <th></th>\n",
       "      <th>name</th>\n",
       "      <th>mpg</th>\n",
       "      <th>cyl</th>\n",
       "      <th>disp</th>\n",
       "      <th>hp</th>\n",
       "      <th>drat</th>\n",
       "      <th>wt</th>\n",
       "      <th>qsec</th>\n",
       "      <th>vs</th>\n",
       "      <th>am</th>\n",
       "      <th>gear</th>\n",
       "      <th>carb</th>\n",
       "      <th>max</th>\n",
       "    </tr>\n",
       "    <tr>\n",
       "      <th>name</th>\n",
       "      <th></th>\n",
       "      <th></th>\n",
       "      <th></th>\n",
       "      <th></th>\n",
       "      <th></th>\n",
       "      <th></th>\n",
       "      <th></th>\n",
       "      <th></th>\n",
       "      <th></th>\n",
       "      <th></th>\n",
       "      <th></th>\n",
       "      <th></th>\n",
       "      <th></th>\n",
       "    </tr>\n",
       "  </thead>\n",
       "  <tbody>\n",
       "    <tr>\n",
       "      <th>Mazda RX4</th>\n",
       "      <td>Mazda RX4</td>\n",
       "      <td>21.0</td>\n",
       "      <td>6</td>\n",
       "      <td>160.0</td>\n",
       "      <td>110</td>\n",
       "      <td>3.90</td>\n",
       "      <td>2.620</td>\n",
       "      <td>16.46</td>\n",
       "      <td>0</td>\n",
       "      <td>1</td>\n",
       "      <td>4</td>\n",
       "      <td>4</td>\n",
       "      <td>104</td>\n",
       "    </tr>\n",
       "    <tr>\n",
       "      <th>Mazda RX4 Wag</th>\n",
       "      <td>Mazda RX4 Wag</td>\n",
       "      <td>21.0</td>\n",
       "      <td>6</td>\n",
       "      <td>160.0</td>\n",
       "      <td>110</td>\n",
       "      <td>3.90</td>\n",
       "      <td>2.875</td>\n",
       "      <td>17.02</td>\n",
       "      <td>0</td>\n",
       "      <td>1</td>\n",
       "      <td>4</td>\n",
       "      <td>4</td>\n",
       "      <td>104</td>\n",
       "    </tr>\n",
       "    <tr>\n",
       "      <th>Datsun 710</th>\n",
       "      <td>Datsun 710</td>\n",
       "      <td>22.8</td>\n",
       "      <td>4</td>\n",
       "      <td>108.0</td>\n",
       "      <td>93</td>\n",
       "      <td>3.85</td>\n",
       "      <td>2.320</td>\n",
       "      <td>18.61</td>\n",
       "      <td>1</td>\n",
       "      <td>1</td>\n",
       "      <td>4</td>\n",
       "      <td>1</td>\n",
       "      <td>89</td>\n",
       "    </tr>\n",
       "    <tr>\n",
       "      <th>Hornet 4 Drive</th>\n",
       "      <td>Hornet 4 Drive</td>\n",
       "      <td>21.4</td>\n",
       "      <td>6</td>\n",
       "      <td>258.0</td>\n",
       "      <td>110</td>\n",
       "      <td>3.08</td>\n",
       "      <td>3.215</td>\n",
       "      <td>19.44</td>\n",
       "      <td>1</td>\n",
       "      <td>0</td>\n",
       "      <td>3</td>\n",
       "      <td>1</td>\n",
       "      <td>104</td>\n",
       "    </tr>\n",
       "    <tr>\n",
       "      <th>Hornet Sportabout</th>\n",
       "      <td>Hornet Sportabout</td>\n",
       "      <td>18.7</td>\n",
       "      <td>8</td>\n",
       "      <td>360.0</td>\n",
       "      <td>175</td>\n",
       "      <td>3.15</td>\n",
       "      <td>3.440</td>\n",
       "      <td>17.02</td>\n",
       "      <td>0</td>\n",
       "      <td>0</td>\n",
       "      <td>3</td>\n",
       "      <td>2</td>\n",
       "      <td>167</td>\n",
       "    </tr>\n",
       "  </tbody>\n",
       "</table>\n",
       "</div>"
      ],
      "text/plain": [
       "                                name   mpg  cyl   disp   hp  drat     wt  \\\n",
       "name                                                                       \n",
       "Mazda RX4                  Mazda RX4  21.0    6  160.0  110  3.90  2.620   \n",
       "Mazda RX4 Wag          Mazda RX4 Wag  21.0    6  160.0  110  3.90  2.875   \n",
       "Datsun 710                Datsun 710  22.8    4  108.0   93  3.85  2.320   \n",
       "Hornet 4 Drive        Hornet 4 Drive  21.4    6  258.0  110  3.08  3.215   \n",
       "Hornet Sportabout  Hornet Sportabout  18.7    8  360.0  175  3.15  3.440   \n",
       "\n",
       "                    qsec  vs  am  gear  carb  max  \n",
       "name                                               \n",
       "Mazda RX4          16.46   0   1     4     4  104  \n",
       "Mazda RX4 Wag      17.02   0   1     4     4  104  \n",
       "Datsun 710         18.61   1   1     4     1   89  \n",
       "Hornet 4 Drive     19.44   1   0     3     1  104  \n",
       "Hornet Sportabout  17.02   0   0     3     2  167  "
      ]
     },
     "execution_count": 86,
     "metadata": {},
     "output_type": "execute_result"
    }
   ],
   "source": [
    "mtcars[\"max\"] = mtcars[\"hp\"] - mtcars[\"cyl\"]\n",
    "mtcars.head()"
   ]
  },
  {
   "cell_type": "code",
   "execution_count": 79,
   "metadata": {},
   "outputs": [
    {
     "data": {
      "text/plain": [
       "name\n",
       "Maserati Bora        327\n",
       "Ford Pantera L       256\n",
       "Duster 360           237\n",
       "Camaro Z28           237\n",
       "Chrysler Imperial    222\n",
       "Name: max, dtype: int64"
      ]
     },
     "execution_count": 79,
     "metadata": {},
     "output_type": "execute_result"
    }
   ],
   "source": [
    "mtcars.sort_values(by=[\"max\"], ascending=False)[\"max\"].head()"
   ]
  },
  {
   "cell_type": "code",
   "execution_count": 80,
   "metadata": {},
   "outputs": [
    {
     "data": {
      "text/plain": [
       "327"
      ]
     },
     "execution_count": 80,
     "metadata": {},
     "output_type": "execute_result"
    }
   ],
   "source": [
    "mtcars.sort_values(by=[\"max\"], ascending=False)[\"max\"][0]"
   ]
  },
  {
   "cell_type": "markdown",
   "metadata": {},
   "source": [
    "### Question 3\n",
    "What are the cars having highest weight(wt) and lowest weight(wt)?\n",
    "\n",
    "**Hint:** Use idxmax() and idxmin() to locate the row\n",
    "\n",
    "Use **.iloc** function to print the  row\n",
    "\n",
    "**Note:** Both idxmax and idxmin belong to pandas"
   ]
  },
  {
   "cell_type": "code",
   "execution_count": 54,
   "metadata": {},
   "outputs": [
    {
     "data": {
      "text/plain": [
       "'Lincoln Continental'"
      ]
     },
     "execution_count": 54,
     "metadata": {},
     "output_type": "execute_result"
    }
   ],
   "source": [
    "mtcars.sort_values(by=[\"wt\"],ascending=False)[\"name\"][0]"
   ]
  },
  {
   "cell_type": "code",
   "execution_count": 55,
   "metadata": {},
   "outputs": [
    {
     "data": {
      "text/plain": [
       "'Lotus Europa'"
      ]
     },
     "execution_count": 55,
     "metadata": {},
     "output_type": "execute_result"
    }
   ],
   "source": [
    "mtcars.sort_values(by=[\"wt\"],ascending=True)[\"name\"][0]"
   ]
  },
  {
   "cell_type": "markdown",
   "metadata": {},
   "source": [
    "### Question 4\n",
    "\n",
    "Find the mean of each row and each column in the given dataset.\n",
    "\n",
    "**Hint:** Use .mean() function. To operate on rows use **axis=0**, on columns use **axis=1**"
   ]
  },
  {
   "cell_type": "code",
   "execution_count": 56,
   "metadata": {},
   "outputs": [
    {
     "data": {
      "text/plain": [
       "mpg      20.090625\n",
       "cyl       6.187500\n",
       "disp    230.721875\n",
       "hp      146.687500\n",
       "drat      3.596563\n",
       "dtype: float64"
      ]
     },
     "execution_count": 56,
     "metadata": {},
     "output_type": "execute_result"
    }
   ],
   "source": [
    "mtcars.select_dtypes(include=[\"int64\", \"float64\"]).mean().head()"
   ]
  },
  {
   "cell_type": "code",
   "execution_count": 57,
   "metadata": {},
   "outputs": [
    {
     "data": {
      "text/plain": [
       "name\n",
       "Mazda RX4            29.907273\n",
       "Mazda RX4 Wag        29.981364\n",
       "Datsun 710           23.598182\n",
       "Hornet 4 Drive       38.739545\n",
       "Hornet Sportabout    53.664545\n",
       "dtype: float64"
      ]
     },
     "execution_count": 57,
     "metadata": {},
     "output_type": "execute_result"
    }
   ],
   "source": [
    "mtcars.select_dtypes(include=[\"int64\", \"float64\"]).mean(axis=1).head()"
   ]
  },
  {
   "cell_type": "markdown",
   "metadata": {},
   "source": [
    "### Question 5\n",
    "\n",
    "Plot mpg values of mtcards dataframe using matplotlib.\n",
    "\n",
    "**Hint: Use plt.plot function**"
   ]
  },
  {
   "cell_type": "code",
   "execution_count": 60,
   "metadata": {},
   "outputs": [
    {
     "name": "stderr",
     "output_type": "stream",
     "text": [
      "C:\\Users\\varuraje.ORADEV\\AppData\\Local\\Continuum\\anaconda3\\lib\\site-packages\\scipy\\stats\\stats.py:1713: FutureWarning: Using a non-tuple sequence for multidimensional indexing is deprecated; use `arr[tuple(seq)]` instead of `arr[seq]`. In the future this will be interpreted as an array index, `arr[np.array(seq)]`, which will result either in an error or a different result.\n",
      "  return np.add.reduce(sorted[indexer] * weights, axis=axis) / sumval\n"
     ]
    },
    {
     "data": {
      "image/png": "[encoded data removed]",
      "text/plain": [
       "<Figure size 432x288 with 1 Axes>"
      ]
     },
     "metadata": {
      "needs_background": "light"
     },
     "output_type": "display_data"
    }
   ],
   "source": [
    "import seaborn as sns\n",
    "sns.distplot(mtcars[\"mpg\"], kde=False);"
   ]
  },
  {
   "cell_type": "markdown",
   "metadata": {},
   "source": [
    "## Part 2"
   ]
  },
  {
   "cell_type": "markdown",
   "metadata": {},
   "source": [
    "## Measures of Dispersion"
   ]
  },
  {
   "cell_type": "markdown",
   "metadata": {},
   "source": [
    "Measures of Dispersion (Spread) are statistics that describe how data varies. Measure of dispersion gives us the sense of how much the data tends to diverge from the central tendency."
   ]
  },
  {
   "cell_type": "markdown",
   "metadata": {},
   "source": [
    "### Question 6\n",
    "\n",
    "What the range of `mpg` in the given dataset?\n",
    "\n",
    "**Hint:** Range = max-min"
   ]
  },
  {
   "cell_type": "code",
   "execution_count": 67,
   "metadata": {},
   "outputs": [
    {
     "name": "stdout",
     "output_type": "stream",
     "text": [
      "33.9\n",
      "10.4\n"
     ]
    },
    {
     "data": {
      "text/plain": [
       "23.5"
      ]
     },
     "execution_count": 67,
     "metadata": {},
     "output_type": "execute_result"
    }
   ],
   "source": [
    "max = mtcars.loc[:, \"mpg\"].max()\n",
    "print(max)\n",
    "min = mtcars.loc[:, \"mpg\"].min() \n",
    "print(min)\n",
    "range = max - min\n",
    "range"
   ]
  },
  {
   "cell_type": "markdown",
   "metadata": {},
   "source": [
    "### Question 7\n",
    "\n",
    "Calculate the 25th quantile (lower quantile)for `mpg` in the given dataset.\n",
    "\n",
    "**Hint:** Use **.quantile()**"
   ]
  },
  {
   "cell_type": "code",
   "execution_count": 63,
   "metadata": {},
   "outputs": [
    {
     "data": {
      "text/plain": [
       "15.425"
      ]
     },
     "execution_count": 63,
     "metadata": {},
     "output_type": "execute_result"
    }
   ],
   "source": [
    "mtcars[\"mpg\"].quantile(0.25)"
   ]
  },
  {
   "cell_type": "markdown",
   "metadata": {},
   "source": [
    "### Question 8\n",
    "\n",
    "Calculate the Inter-Quartile Range(IQR) for `mpg` in the given dataset."
   ]
  },
  {
   "cell_type": "markdown",
   "metadata": {},
   "source": [
    "Interquartile range (IQR) is another common measure of spread. IQR is the distance between the 3rd quartile and the 1st quartile.\n",
    "\n",
    "**Hint:** IQR = Q3 - Q1"
   ]
  },
  {
   "cell_type": "code",
   "execution_count": 82,
   "metadata": {},
   "outputs": [
    {
     "data": {
      "text/plain": [
       "7.375"
      ]
     },
     "execution_count": 82,
     "metadata": {},
     "output_type": "execute_result"
    }
   ],
   "source": [
    "mtcars[\"mpg\"].quantile(0.75) - mtcars[\"mpg\"].quantile(0.25)"
   ]
  },
  {
   "cell_type": "markdown",
   "metadata": {},
   "source": [
    "### Question 9\n",
    "\n",
    "Calculate the Variance, Standard Deviation and Median Absolute Deviation for `mpg`."
   ]
  },
  {
   "cell_type": "markdown",
   "metadata": {},
   "source": [
    "Variance and Standard Deviation are two other common measure of dispersion.\n",
    "\n",
    "**Hint:** Use .var() and .std()"
   ]
  },
  {
   "cell_type": "markdown",
   "metadata": {},
   "source": [
    "**Hint:** Median Absolute Deviation - alternative measure of spread based on the median. It is the median of the absolute value of the deviations from the median. "
   ]
  },
  {
   "cell_type": "code",
   "execution_count": 83,
   "metadata": {},
   "outputs": [
    {
     "data": {
      "text/plain": [
       "36.32410282258065"
      ]
     },
     "execution_count": 83,
     "metadata": {},
     "output_type": "execute_result"
    }
   ],
   "source": [
    "mtcars[\"mpg\"].var()"
   ]
  },
  {
   "cell_type": "code",
   "execution_count": 84,
   "metadata": {},
   "outputs": [
    {
     "data": {
      "text/plain": [
       "6.026948052089105"
      ]
     },
     "execution_count": 84,
     "metadata": {},
     "output_type": "execute_result"
    }
   ],
   "source": [
    "mtcars[\"mpg\"].std()"
   ]
  },
  {
   "cell_type": "code",
   "execution_count": 90,
   "metadata": {},
   "outputs": [
    {
     "data": {
      "text/plain": [
       "3.6500000000000004"
      ]
     },
     "execution_count": 90,
     "metadata": {},
     "output_type": "execute_result"
    }
   ],
   "source": [
    "mtcars[\"dist\"] = abs(mtcars['mpg'] - mtcars['mpg'].median())\n",
    "mtcars[\"dist\"].median()"
   ]
  },
  {
   "cell_type": "markdown",
   "metadata": {},
   "source": [
    "## Part 3"
   ]
  },
  {
   "cell_type": "markdown",
   "metadata": {},
   "source": [
    "## Probability Distributions"
   ]
  },
  {
   "cell_type": "markdown",
   "metadata": {},
   "source": [
    "The probability distribution describes how a random variable is distributed. It tells us which values a variable is most likely to take on and which values are less likely to take on. "
   ]
  },
  {
   "cell_type": "markdown",
   "metadata": {},
   "source": [
    "Each value in the given range is equally likely to occur. "
   ]
  },
  {
   "cell_type": "code",
   "execution_count": 89,
   "metadata": {},
   "outputs": [],
   "source": [
    "import scipy.stats as stats # Many functions for probability distributions in python are in scipy.stats"
   ]
  },
  {
   "cell_type": "markdown",
   "metadata": {},
   "source": [
    "### Question 10\n",
    "\n",
    "Generate 1000 datapoints with standard normal distribution with mean 0 and standard deviation 1. "
   ]
  },
  {
   "cell_type": "markdown",
   "metadata": {},
   "source": [
    "#### Normal Distribution"
   ]
  },
  {
   "cell_type": "markdown",
   "metadata": {},
   "source": [
    "The normal or Gaussian Distribution is a continuos probability distribution given by a symmetric bell shaped curve. It is defined its center(mean) and spread(std)."
   ]
  },
  {
   "cell_type": "markdown",
   "metadata": {},
   "source": [
    "The bulk of the observations generated from a normal distribution lie near the mean which lies at the center. About 68% of the data lies within 1 std, 95% lies within 2 stds and 99.7% lies within 3 stds.\n",
    "\n",
    "**Hint:** You can use **np.random.normal()** function to generate normal distribution"
   ]
  },
  {
   "cell_type": "code",
   "execution_count": 92,
   "metadata": {},
   "outputs": [
    {
     "data": {
      "text/plain": [
       "array([-4.21217137e-01, -1.27760948e+00, -2.43463295e-01,  1.90113445e+00,\n",
       "        2.00054910e-01,  1.65072807e-01,  8.22473119e-01, -7.33266835e-03,\n",
       "        4.84442543e-01, -3.15081971e-01,  4.49136829e-01, -1.32291038e+00,\n",
       "        6.01077615e-01,  6.36042756e-01, -1.55946972e-01, -8.89581137e-02,\n",
       "        6.04448060e-01,  3.39137634e-01, -1.28378661e+00, -3.10791689e-01,\n",
       "        3.53213750e-01, -1.37343551e-01, -8.04276773e-01, -6.10370763e-01,\n",
       "        6.23758813e-02,  5.17988833e-01, -5.78659351e-01, -1.67326446e-01,\n",
       "       -2.17438816e-01, -9.07649728e-02,  9.55358547e-01,  3.28998966e-01,\n",
       "       -1.54826494e+00, -1.35057392e+00, -5.66680948e-01, -1.67008108e+00,\n",
       "        4.46124436e-01, -7.65549875e-01,  1.01131387e+00,  6.53331996e-02,\n",
       "       -1.94531822e+00, -5.43464890e-01,  2.24505827e-02, -4.35868292e-01,\n",
       "       -1.24024075e+00, -4.61744755e-01, -8.96309377e-01, -3.51592783e-01,\n",
       "        2.50443537e-01,  1.77989148e+00,  2.90718253e+00,  2.97226829e-01,\n",
       "       -2.36765750e-01, -1.63824605e+00,  2.26534376e-01,  1.99270388e-01,\n",
       "       -1.40793172e-01,  3.11325537e-01, -4.84951561e-01, -1.07719701e+00,\n",
       "        3.38734928e-01, -1.51612893e+00, -6.45532124e-01,  9.70639118e-01,\n",
       "       -2.54993508e-01,  1.24254056e-01,  2.12490251e+00,  2.21404058e-01,\n",
       "       -1.01741613e+00, -7.75608014e-01,  1.91280374e+00,  1.05349774e-01,\n",
       "       -1.20000669e-03, -9.35485564e-01,  1.85725020e+00, -1.40720519e-01,\n",
       "       -4.90951993e-01,  1.54978597e+00,  3.68740426e-01,  1.87095498e+00,\n",
       "       -2.13340322e-01,  7.18905243e-01,  1.61998191e+00,  8.50637745e-01,\n",
       "        5.87035616e-01,  9.03538464e-01, -3.38183639e-01,  1.39243867e+00,\n",
       "       -1.49982965e+00,  2.83128193e-01,  1.09454661e-01,  3.22089154e-01,\n",
       "       -2.23663690e-01,  6.29044465e-01,  1.49472387e-01,  2.34711714e-01,\n",
       "       -1.97531661e+00,  4.01549665e-01, -5.38011963e-01, -1.32350490e+00,\n",
       "        8.85077437e-01,  2.22582607e+00, -6.12439353e-01,  3.21518931e-01,\n",
       "       -1.77200509e+00, -1.76230445e+00, -2.45887877e-01,  1.59406647e-01,\n",
       "        6.42171716e-01, -6.80683348e-01, -2.18324860e-01, -2.47507993e-01,\n",
       "        3.79290138e-01, -2.23967870e-01, -1.53366740e+00,  1.27632714e+00,\n",
       "       -9.67735439e-01, -7.64689479e-01,  5.09855235e-01, -1.41559431e+00,\n",
       "        2.09277674e+00, -8.81860159e-01,  2.24574623e-01,  6.43782872e-01,\n",
       "        5.44183821e-01,  1.46129659e+00,  5.35236127e-01, -1.16322442e-01,\n",
       "        1.46244318e+00,  1.58759362e+00,  1.07904834e+00, -8.81975960e-01,\n",
       "        4.48491868e-02, -1.32978033e+00,  2.19444830e-01,  1.44792146e-01,\n",
       "        8.72216498e-01,  8.20423315e-01, -8.55925144e-01,  6.32486089e-01,\n",
       "       -7.81387949e-01, -1.42364637e+00, -8.43355613e-01, -7.26441314e-03,\n",
       "        1.43026635e-01, -2.07713928e-01, -1.64764271e+00,  2.31509336e+00,\n",
       "        1.75019509e+00,  7.57022553e-01, -7.33453897e-01,  8.65653901e-01,\n",
       "       -1.02725005e+00,  8.35355357e-01,  3.35910215e-01, -2.34773437e-01,\n",
       "        7.04820731e-01, -5.59471363e-01, -1.49854783e-02,  9.33434834e-01,\n",
       "       -1.71744236e+00, -2.29590569e-01, -9.40845365e-01,  1.55528789e-01,\n",
       "       -1.02519853e+00,  1.19357343e+00,  5.81500954e-01,  2.63808501e+00,\n",
       "        1.57145376e+00, -7.20663391e-01, -5.60504696e-01,  2.55503728e-01,\n",
       "        8.17085142e-04,  2.19423919e+00,  2.73881742e-01, -1.01297784e+00,\n",
       "       -3.84400274e-01,  7.84441502e-01,  1.98454553e+00,  5.84350358e-01,\n",
       "        5.83009205e-01,  5.61811689e-02, -8.77847531e-01,  4.35355031e-01,\n",
       "       -1.05229158e-01, -6.50894068e-01, -7.51640324e-01,  1.38007023e+00,\n",
       "        5.82067266e-01,  9.99992047e-01, -7.88514106e-01, -1.21590851e+00,\n",
       "       -9.42814671e-01, -1.63294790e+00, -1.21896282e-01, -1.23020498e+00,\n",
       "        2.05555222e+00,  1.07607425e+00,  1.34246054e+00, -3.69578993e-01,\n",
       "       -8.23120869e-01,  2.17809897e-01, -2.54869406e+00, -1.26273836e+00,\n",
       "       -5.09989148e-01,  1.34501601e+00, -7.35003744e-01, -5.00178064e-01,\n",
       "        1.46461371e-01,  3.47030604e-01, -2.43837183e-02, -1.18801171e-01,\n",
       "       -2.16040423e-01,  6.22906148e-01,  3.19921443e-01, -1.41781124e+00,\n",
       "        1.30527810e-01, -4.66929592e-01,  6.04349192e-01,  2.74963255e-02,\n",
       "        1.29430584e+00, -4.83005196e-01,  1.19447000e+00, -4.64155344e-01,\n",
       "        1.04416137e+00,  1.29787510e+00, -2.36390035e-01,  1.33490942e+00,\n",
       "        1.70448328e-01, -1.12891667e+00, -1.05959471e+00, -2.05405658e-01,\n",
       "       -6.29294423e-01, -1.72415588e+00,  5.50844011e-01,  3.01725275e-01,\n",
       "       -7.31761499e-01,  1.10165097e+00, -2.67858751e-01,  4.11353338e-01,\n",
       "       -8.40702126e-01,  2.31629882e-01,  1.81223509e+00,  6.49865522e-02,\n",
       "        2.71595484e-01, -5.32907365e-01, -1.33678427e+00, -1.26192371e+00,\n",
       "        1.11997173e+00, -1.51405006e+00,  5.12154836e-01,  1.00373345e+00,\n",
       "       -9.37099817e-01,  3.76838559e-02,  4.74220180e-01, -9.09135442e-01,\n",
       "        4.26812249e-01, -3.98302434e-01,  8.34390903e-01,  2.38464725e+00,\n",
       "       -7.33276239e-01, -1.52855109e-01,  3.18866636e-02,  3.49578901e-01,\n",
       "       -1.60965040e+00, -7.58919322e-01,  1.11638070e-01,  1.69473822e+00,\n",
       "        1.76241596e-01,  3.47464505e-01,  1.12882441e+00,  4.12683995e-01,\n",
       "        1.41488432e+00,  3.58941980e-01,  1.70639167e+00, -7.92820044e-01,\n",
       "       -1.26918555e+00,  1.34039553e+00, -3.79476002e-01,  1.28388305e+00,\n",
       "       -1.99895920e+00,  3.66051595e-01,  1.12617970e+00, -3.36168837e-02,\n",
       "       -4.94740100e-01,  5.10953599e-01, -1.12874047e+00, -1.79277370e-02,\n",
       "       -1.29721310e-01, -7.39525442e-01, -9.31442048e-01, -4.16356208e-01,\n",
       "        1.54592112e+00,  1.56180611e-01, -1.37438078e+00,  6.57290931e-01,\n",
       "       -8.30994968e-01, -3.89447381e-01, -4.70014849e-01, -1.35872437e+00,\n",
       "       -7.87684642e-01, -1.47932521e+00, -9.73530275e-01,  1.15402594e+00,\n",
       "       -2.21767375e-01,  1.35660392e+00, -6.89915792e-01, -1.21046051e-01,\n",
       "       -7.92472569e-01, -4.19403442e-01,  1.97311329e+00,  4.65771573e-01,\n",
       "        2.37069967e-01,  1.37631356e+00, -8.48426446e-01,  3.76523315e-01,\n",
       "        1.25336569e-02,  1.83690584e+00, -9.66597086e-01,  3.66723147e-01,\n",
       "       -5.15741603e-01, -5.19141796e-01,  7.13638330e-01, -2.38540835e-01,\n",
       "        9.17947319e-02,  5.14185929e-01,  2.19120284e+00, -6.36188826e-01,\n",
       "        1.07929149e+00, -1.25391626e+00,  1.28658574e+00, -1.90474399e-01,\n",
       "       -7.45869960e-01, -9.78589487e-01,  5.06258937e-04,  2.63271738e+00,\n",
       "       -6.38204236e-02, -2.36114925e-01,  1.13139806e+00,  8.91535163e-01,\n",
       "       -5.54085195e-01,  2.46515880e-01,  1.01496404e+00, -2.22695014e+00,\n",
       "        1.75428868e+00, -8.48317215e-02, -3.65979515e-01, -5.88520517e-01,\n",
       "        1.90600103e-01,  7.86607446e-01, -4.39629151e-01,  4.72773941e-01,\n",
       "        2.22811998e+00,  5.61899806e-01,  6.53580379e-01, -8.51777421e-01,\n",
       "       -5.41215003e-01,  1.03647794e+00, -1.34664269e+00,  7.71180840e-01,\n",
       "        3.84795396e-01,  1.28436529e+00,  9.22183509e-01,  5.88178564e-01,\n",
       "        1.54604184e+00, -1.91791380e+00, -1.32111697e+00,  1.29925908e+00,\n",
       "       -1.13140222e+00,  1.69219117e+00, -8.96812586e-01,  5.60249377e-01,\n",
       "       -8.07325101e-01,  1.04378970e+00, -1.46357688e-01, -3.83327258e-01,\n",
       "       -1.65688433e+00, -4.37706415e-02,  2.65422076e-01, -1.73086612e+00,\n",
       "        2.98463042e-01,  8.18858159e-01, -5.82869041e-01,  1.61047364e+00,\n",
       "       -7.26799468e-01, -1.61133610e+00,  3.53802892e-01,  5.98446272e-01,\n",
       "       -6.24783112e-01, -4.78730907e-01, -6.29059998e-01, -1.75007321e+00,\n",
       "       -2.16790244e-01, -7.97965398e-01, -4.65061474e-01,  5.07570303e-01,\n",
       "       -1.66684424e-01,  2.43617463e-01,  7.40509565e-01, -7.30804521e-01,\n",
       "       -1.13542003e+00, -2.24402807e+00,  7.03549296e-01,  1.55572711e-01,\n",
       "        7.10556264e-01,  9.58358936e-01, -4.56993291e-01,  1.10689388e+00,\n",
       "       -1.05665660e-01,  2.61180988e+00,  2.84589274e-01,  8.03364243e-01,\n",
       "       -3.91714400e-01,  9.81813677e-01, -9.13088864e-01,  5.99657194e-01,\n",
       "        1.04106419e-01,  3.12257523e-02,  1.26062697e+00,  1.26697765e+00,\n",
       "        8.52847085e-02,  5.68057897e-01, -6.44565724e-01,  2.07174580e-01,\n",
       "        7.42444675e-01,  6.87656189e-01,  1.37256559e+00, -5.39162753e-01,\n",
       "        1.02902602e+00, -1.66529863e+00, -1.51563870e+00, -1.23887518e+00,\n",
       "       -1.00138667e+00,  3.88849847e-01, -9.74873778e-01, -2.61406677e-01,\n",
       "        5.73681284e-01,  8.34035485e-01,  4.52027559e-01, -7.34555404e-01,\n",
       "       -1.06727472e+00, -4.38312102e-01,  1.22135717e-02, -1.36162450e+00,\n",
       "       -7.99413183e-01, -6.95002087e-01, -1.02440725e+00,  1.91934400e+00,\n",
       "        7.42787442e-01,  1.71793589e+00,  1.99698590e-01, -2.44482318e-01,\n",
       "       -2.40759114e+00, -5.76257498e-01, -5.61507515e-01,  1.46414058e+00,\n",
       "        6.59294735e-02,  2.32490850e-01, -5.64164804e-01,  7.90579834e-01,\n",
       "        1.10385910e+00,  3.36132851e-01,  7.11270476e-02,  1.72652237e+00,\n",
       "        5.47043833e-01, -1.31777163e+00, -1.36711834e+00,  5.79724528e-01,\n",
       "        1.13609249e-01,  1.10482686e-01, -1.06903984e-01, -6.77748022e-01,\n",
       "       -6.51020824e-01,  2.59427193e-01,  3.13051525e-01,  2.64719937e-01,\n",
       "        1.07101631e+00, -1.28216171e+00, -4.87582752e-01,  9.97482793e-01,\n",
       "       -3.67434841e-01, -1.60586226e+00, -8.27789569e-01, -2.73109456e-01,\n",
       "        1.66899725e+00,  1.42481130e+00, -2.92241175e-02,  6.14197577e-01,\n",
       "       -7.10976513e-01, -5.31185489e-01,  1.07136879e-01, -2.90213942e-01,\n",
       "       -6.53702201e-01, -9.08271818e-01,  6.11385068e-01,  4.57303617e-01,\n",
       "        1.36631984e+00,  3.45176919e-01, -2.70851257e+00, -3.33157925e-01,\n",
       "        6.91555080e-01,  1.24177735e+00,  4.69585667e-01, -1.36621008e+00,\n",
       "        2.88886722e-01, -1.36359607e-01,  2.81008321e+00, -2.49023228e+00,\n",
       "        6.65673464e-01,  3.17866739e-01,  1.53862722e-01, -1.58501919e+00,\n",
       "       -4.35281675e-01, -3.65995287e-01, -1.12918691e+00,  8.16417927e-01,\n",
       "        3.64408156e-01, -5.66538250e-01,  2.41408540e-01, -9.03146916e-01,\n",
       "        1.22132006e+00, -7.57242200e-01,  2.54396387e+00,  1.85488585e-01,\n",
       "        7.27422320e-01, -6.55509421e-01, -5.55814405e-01,  2.00079262e+00,\n",
       "       -6.31939709e-01,  7.69268911e-01, -1.62459208e+00,  6.27807975e-01,\n",
       "        5.57863935e-01, -4.71807144e-01,  1.51263377e+00,  6.32013261e-01,\n",
       "       -3.61301968e-01,  1.73894489e+00,  7.62135286e-01, -8.74661893e-01,\n",
       "        5.33139293e-01, -9.18308277e-01, -3.16141235e-01,  2.19107371e+00,\n",
       "        4.35904971e-01, -2.08442870e-01,  6.06499749e-01,  1.80929024e+00,\n",
       "       -1.07103860e-01, -2.48610070e-01,  5.89255987e-01, -1.38448040e-01,\n",
       "       -6.27652113e-01, -3.37920032e-01,  1.92305799e-01, -1.32918216e-01,\n",
       "       -1.16854422e+00,  2.18467558e+00,  3.74341073e-01, -1.42363374e+00,\n",
       "       -1.22093794e+00,  1.63893917e-03,  1.81684622e+00, -1.58209440e+00,\n",
       "        4.65702624e-02, -7.97463432e-02,  8.36080379e-02,  1.53417957e-01,\n",
       "        8.15416962e-01, -8.46418310e-01,  1.98110163e-01, -2.16169942e+00,\n",
       "       -1.08067734e+00,  6.31041591e-01,  7.56689735e-01, -3.65797732e-01,\n",
       "       -8.42585095e-01, -2.46517813e+00,  7.35510903e-01,  1.12662019e+00,\n",
       "       -2.65188949e-01,  4.59002482e-01, -1.91322961e+00, -8.22152985e-01,\n",
       "       -9.61415573e-01, -9.27954632e-01, -1.37148248e+00, -6.87382805e-01,\n",
       "        1.04061095e-01, -1.36786334e+00,  2.37514521e-01, -4.61973516e-01,\n",
       "        9.34490469e-01,  6.03191992e-01, -1.76451883e-01,  4.50035196e-01,\n",
       "        2.01394022e-01, -1.94575813e+00,  9.17858027e-01,  5.85997320e-01,\n",
       "       -2.70171354e-01,  1.38075175e+00,  1.36542119e+00, -6.35312006e-01,\n",
       "       -5.33308563e-01,  9.77348159e-01, -9.13373513e-02,  1.49171169e+00,\n",
       "        5.42805933e-01, -4.97354547e-01, -8.96835258e-01,  1.26162976e+00,\n",
       "        3.31598056e-01,  5.43533913e-01,  8.93282178e-01, -3.95865861e-02,\n",
       "        1.31090264e+00,  5.64450925e-01,  2.99712201e+00,  4.08053986e-01,\n",
       "       -9.74667607e-01, -1.85211267e-01,  1.97919845e+00,  2.11336853e+00,\n",
       "        1.26673020e+00, -1.17180029e-01,  9.58089819e-02, -1.88826323e-03,\n",
       "        1.39213533e+00, -1.40344569e+00, -7.09725930e-01, -1.34622883e+00,\n",
       "       -4.32471861e-01,  1.48039869e+00,  2.18516024e+00,  4.32323620e-01,\n",
       "       -1.64621224e+00,  8.02666016e-01,  1.23974254e+00, -2.74098546e-01,\n",
       "        7.75807042e-01, -3.24450489e+00,  1.40126704e+00, -1.59699305e+00,\n",
       "       -2.72796203e-01, -2.41596182e-03,  1.85656395e+00, -1.85700037e-01,\n",
       "        6.45911589e-01,  1.11415131e+00,  2.14277174e-02, -8.72513056e-01,\n",
       "        2.64866679e-01, -6.38783318e-03,  9.80922949e-01, -4.51814172e-01,\n",
       "       -1.91263438e+00, -1.32134418e+00, -2.42840868e-01, -2.33773076e+00,\n",
       "        7.31084323e-01,  1.12044021e-01,  2.25838692e-01, -6.03667955e-02,\n",
       "        9.22111618e-01, -1.04666185e+00,  3.15062809e-02,  1.60071690e+00,\n",
       "       -1.77592047e+00, -3.84713210e-01,  4.46260337e-01,  1.89805529e-01,\n",
       "       -9.58355495e-01,  3.93784504e-01, -7.39629661e-01, -1.94920307e-01,\n",
       "       -4.35915506e-01, -3.49158651e-01, -3.72786728e-01,  5.50891767e-01,\n",
       "        1.42272693e+00, -1.09119807e+00,  3.81398056e-02, -6.69473074e-01,\n",
       "        7.75059668e-01, -4.19003236e-01, -1.57405973e-01,  1.67181140e+00,\n",
       "       -1.35271399e+00,  7.89801375e-01, -1.47231818e-01, -4.71794464e-01,\n",
       "        4.99381064e-01,  7.60155131e-01,  1.92493586e-01, -5.76374839e-01,\n",
       "       -5.52183169e-01, -1.21409369e+00, -5.36053440e-01,  5.84316161e-01,\n",
       "       -3.59909529e-01, -2.10005293e+00, -3.70208854e-01,  4.37595577e-01,\n",
       "       -8.30628666e-01,  3.15841353e-02,  2.65548494e-01,  1.62101281e-01,\n",
       "        1.60646054e+00, -4.15744295e-01, -6.72569447e-01,  2.06034295e-02,\n",
       "       -4.37025625e-01, -9.76764973e-01,  7.51315462e-01,  9.26306678e-01,\n",
       "       -5.33742432e-01,  7.14117439e-01,  1.19911473e-01,  2.17908885e-01,\n",
       "        1.11174445e+00, -8.83753376e-01,  1.56749279e+00,  2.67654991e-01,\n",
       "        5.29072097e-01, -1.66398108e+00,  3.98410306e-01, -1.71127439e+00,\n",
       "        6.09008639e-01,  1.96003651e-01, -4.09081330e-01,  1.84635514e-01,\n",
       "        3.40272183e-01,  5.03736562e-01,  2.61430521e+00,  7.98316337e-01,\n",
       "        3.12476880e-03, -1.41484326e+00,  6.87033552e-01,  5.97399133e-01,\n",
       "        4.94943991e-01, -6.37367500e-01, -4.91276856e-01,  1.68831237e+00,\n",
       "        5.05604479e-01, -9.58586805e-01,  3.85265089e-01, -8.35132919e-01,\n",
       "       -1.12561204e+00, -2.59694629e-02,  4.48102066e-01,  1.93560684e+00,\n",
       "       -5.27041717e-01,  6.00524362e-01,  4.19929812e-01, -7.07976011e-01,\n",
       "       -1.78580666e+00,  3.12530500e-01,  4.58245590e-02,  1.47164064e+00,\n",
       "        1.49933039e+00,  1.69283328e-01,  3.74048565e-02,  9.14610433e-01,\n",
       "       -1.27991511e+00, -3.39737278e-01,  1.40941576e-01,  1.00689872e+00,\n",
       "       -2.72242407e+00,  8.88815992e-02, -9.81206442e-01,  1.47259630e+00,\n",
       "        5.29048402e-01, -1.65145488e+00,  1.53757288e+00, -7.14498649e-01,\n",
       "        2.98618439e+00,  8.64819637e-01,  1.19213238e-01, -6.84587798e-01,\n",
       "        1.02126768e+00, -8.12212680e-02,  5.23107827e-01,  2.92777985e-01,\n",
       "       -4.83705431e-01,  1.09911414e+00, -9.46959483e-01,  5.80627998e-01,\n",
       "       -9.68137402e-01, -1.58459940e-01,  2.01268313e-01, -2.42104211e-01,\n",
       "       -6.23525452e-01, -6.71367156e-01, -1.79795566e-01, -1.06608539e+00,\n",
       "       -4.84153314e-01, -1.76467638e+00, -1.69484381e+00, -5.24634212e-01,\n",
       "       -3.23967998e-01,  5.56140785e-01, -9.64443245e-01,  2.14585426e-01,\n",
       "        1.39324008e+00, -1.35971647e+00, -1.49865880e+00,  1.02492543e+00,\n",
       "        9.85414404e-01,  1.35594154e+00, -7.98783176e-02, -4.94853711e-01,\n",
       "       -2.20854039e+00, -1.58647588e+00, -2.78720676e-01, -2.52728480e-02,\n",
       "       -3.45329833e-01,  5.90686742e-01,  1.12764873e-01, -2.22482274e-01,\n",
       "       -9.42454490e-01,  2.35028359e-01, -4.10041484e-01, -6.86386718e-01,\n",
       "       -5.24197470e-01,  2.25944347e+00, -1.28567154e+00,  1.84886613e-01,\n",
       "       -1.10276525e+00,  1.44696446e+00,  6.40213307e-01, -1.59536828e+00,\n",
       "        3.17169391e+00,  3.93850561e-01, -5.95797424e-01,  1.55637237e-01,\n",
       "       -3.38446188e-01,  9.89566101e-01, -2.45839696e-03, -8.71555826e-01,\n",
       "        1.55629560e+00,  2.81577118e+00,  1.00289102e+00, -1.05557149e-01,\n",
       "        8.15731202e-01, -1.27883258e-01, -5.28417274e-01, -5.18100283e-01,\n",
       "       -1.19477271e+00, -1.83183657e+00,  5.66574571e-01,  8.06084594e-01,\n",
       "        1.03487978e+00, -6.19439096e-01, -8.73657846e-01,  1.00647198e-01,\n",
       "        9.11754310e-01,  1.76704147e+00, -1.85363635e-01,  1.12428769e-02,\n",
       "        1.34579188e+00, -5.12958332e-01, -1.56998886e+00,  9.53563648e-01,\n",
       "       -3.16967353e-01, -1.57532872e-01, -4.43232282e-01, -5.12807777e-01,\n",
       "        8.67405482e-02, -9.32938734e-01,  7.07010405e-02, -2.24687312e+00,\n",
       "       -1.62284165e+00,  2.30657070e+00, -1.03772382e-02, -6.22706069e-01,\n",
       "       -1.73839928e+00,  1.19463512e+00, -2.80680100e-01,  3.27887379e-01,\n",
       "        5.39752985e-01,  5.10454794e-01,  3.40774819e-01, -1.41480732e-01,\n",
       "       -5.03521386e-01, -2.04052905e-01,  1.71353995e-01, -1.13319561e-02,\n",
       "        1.73921505e+00,  1.34395281e+00,  2.91126728e-01,  1.71668702e+00,\n",
       "        3.68980883e-01,  1.13016500e+00,  9.67656662e-01,  8.44275316e-01,\n",
       "       -6.25123980e-01,  1.26980816e+00, -5.90900738e-01,  2.96887850e-01,\n",
       "       -9.57931551e-01,  8.97691072e-01, -4.96611914e-01,  1.96745317e-01,\n",
       "        4.78440855e-01,  1.24956510e+00,  5.10288229e-01,  4.73396491e-01,\n",
       "       -2.27710409e+00, -3.18954947e-01,  1.10930127e+00,  2.12695426e-01,\n",
       "        3.98937017e-01, -2.95905338e-01,  9.80159735e-01, -4.86987295e-01,\n",
       "        4.65635841e-01, -5.66388655e-01,  1.16956305e+00, -1.37947682e+00,\n",
       "        1.76860367e+00, -2.55995518e-01,  1.74334265e-01,  1.09132955e+00,\n",
       "        7.56581980e-03, -1.64109905e+00, -1.86630357e-01, -9.34799407e-01,\n",
       "       -1.78570233e+00, -4.06112666e-01, -2.96101958e-01,  8.46971724e-01,\n",
       "        6.08509466e-01,  1.41219210e+00, -1.02962792e-02,  7.26281781e-01,\n",
       "        4.16780747e-01,  1.72445823e+00,  2.49277714e-01, -3.26999831e-01,\n",
       "       -7.37166322e-01,  1.08732849e+00,  5.16366084e-01,  1.25887472e+00,\n",
       "       -1.11842552e+00, -5.05562938e-01,  1.28159638e+00, -4.14299291e-01,\n",
       "        8.48716815e-01,  3.47376994e-01, -2.49180196e-01, -5.32743765e-01,\n",
       "        1.99909352e+00, -1.76713217e-01, -4.20987805e-01,  2.04145417e+00,\n",
       "        1.17122617e+00,  1.23095742e+00, -1.54300126e-01,  2.98485385e-01,\n",
       "        5.19161219e-01, -9.65205050e-01, -3.73423179e-01,  1.03387178e+00,\n",
       "       -2.35107186e+00,  9.00250219e-02, -1.96724983e+00, -2.81437819e-01,\n",
       "        1.11104402e+00,  1.23735937e-01, -4.24676544e-01,  2.21327361e+00,\n",
       "       -3.26513526e-01, -8.33334313e-02, -3.98774853e-03,  1.39003029e+00,\n",
       "        7.24111507e-02,  1.05345889e+00,  8.88808500e-01, -1.37627394e-01,\n",
       "        1.58962505e-01,  3.87069063e-01, -8.78655835e-01,  1.06763301e+00,\n",
       "        2.06433387e-02, -2.54999308e-01, -2.55783938e-02,  2.73477640e-01,\n",
       "        6.53102289e-01,  2.15154283e+00, -6.95029220e-01,  1.04103370e+00,\n",
       "       -6.11798338e-01, -1.11558979e+00, -1.32919681e-01, -9.62503087e-02,\n",
       "       -4.25993389e-01,  1.54594394e+00,  9.60515979e-03, -1.64421057e+00])"
      ]
     },
     "execution_count": 92,
     "metadata": {},
     "output_type": "execute_result"
    }
   ],
   "source": [
    "np.random.normal(0, 1, 1000)"
   ]
  },
  {
   "cell_type": "markdown",
   "metadata": {},
   "source": [
    "## Question 11\n",
    "\n",
    "Generate binomial distribution data for fair coin flipping of size 100. Assume `0` for head and `1` for tail.\n",
    "\n",
    "[ **Hint:** For fair coin flip `p=0.5` ]"
   ]
  },
  {
   "cell_type": "markdown",
   "metadata": {},
   "source": [
    "#### Binomial Distribution"
   ]
  },
  {
   "cell_type": "markdown",
   "metadata": {},
   "source": [
    "It is defined by 2 parameters: the probability of success and the number of trails. It tells about how likely it is possible to get a given number of successes in n trails."
   ]
  },
  {
   "cell_type": "code",
   "execution_count": 102,
   "metadata": {},
   "outputs": [
    {
     "data": {
      "text/plain": [
       "array([1, 1, 1, 1, 0, 1, 1, 1, 1, 1, 1, 0, 0, 0, 1, 0, 1, 1, 0, 0, 0, 0,\n",
       "       1, 1, 0, 1, 0, 1, 1, 1, 1, 1, 1, 1, 0, 1, 1, 0, 0, 0, 0, 0, 1, 0,\n",
       "       1, 1, 1, 0, 0, 1, 0, 0, 0, 0, 1, 1, 0, 0, 0, 0, 1, 0, 0, 0, 0, 0,\n",
       "       0, 0, 1, 0, 1, 0, 0, 1, 0, 1, 0, 0, 1, 0, 0, 0, 1, 0, 1, 0, 0, 1,\n",
       "       0, 0, 0, 1, 0, 0, 1, 0, 0, 1, 1, 1])"
      ]
     },
     "execution_count": 102,
     "metadata": {},
     "output_type": "execute_result"
    }
   ],
   "source": [
    "np.random.binomial(1, 0.5, 100)"
   ]
  },
  {
   "cell_type": "markdown",
   "metadata": {},
   "source": [
    "#### Visualizing Poisson Distribution"
   ]
  },
  {
   "cell_type": "markdown",
   "metadata": {},
   "source": [
    "It models the probability of seeing certain number of successes within a time interval."
   ]
  },
  {
   "cell_type": "code",
   "execution_count": 101,
   "metadata": {},
   "outputs": [
    {
     "data": {
      "image/png": "[encoded data removed]",
      "text/plain": [
       "<Figure size 432x288 with 1 Axes>"
      ]
     },
     "metadata": {
      "needs_background": "light"
     },
     "output_type": "display_data"
    }
   ],
   "source": [
    "poisson_data = stats.poisson.rvs(size=100,mu=10)\n",
    "\n",
    "pd.DataFrame(poisson_data).hist()\n",
    "\n",
    "plt.show()"
   ]
  },
  {
   "cell_type": "code",
   "execution_count": null,
   "metadata": {},
   "outputs": [],
   "source": []
  }
 ],
 "metadata": {
  "kernelspec": {
   "display_name": "Python 3",
   "language": "python",
   "name": "python3"
  },
  "language_info": {
   "codemirror_mode": {
    "name": "ipython",
    "version": 3
   },
   "file_extension": ".py",
   "mimetype": "text/x-python",
   "name": "python",
   "nbconvert_exporter": "python",
   "pygments_lexer": "ipython3",
   "version": "3.7.0"
  }
 },
 "nbformat": 4,
 "nbformat_minor": 2
}
