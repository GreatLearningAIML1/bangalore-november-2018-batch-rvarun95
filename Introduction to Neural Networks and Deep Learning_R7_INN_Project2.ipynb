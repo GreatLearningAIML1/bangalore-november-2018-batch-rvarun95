{
 "cells": [
  {
   "cell_type": "markdown",
   "metadata": {},
   "source": [
    "### Import the libraries"
   ]
  },
  {
   "cell_type": "code",
   "execution_count": 1,
   "metadata": {},
   "outputs": [],
   "source": [
    "from IPython.core.interactiveshell import InteractiveShell\n",
    "InteractiveShell.ast_node_interactivity = \"all\""
   ]
  },
  {
   "cell_type": "code",
   "execution_count": 2,
   "metadata": {},
   "outputs": [],
   "source": [
    "import h5py as h5\n",
    "import numpy as np\n",
    "import pandas as pd\n",
    "import matplotlib.pyplot as plt\n",
    "\n",
    "# calculate accuracy measures and confusion matrix\n",
    "from sklearn import metrics\n",
    "# Create KNN classifier\n",
    "from sklearn.neighbors import KNeighborsClassifier"
   ]
  },
  {
   "cell_type": "markdown",
   "metadata": {},
   "source": [
    "### Understand the basic Image Classification pipeline and the data-driven approach (train/predict stages)"
   ]
  },
  {
   "cell_type": "code",
   "execution_count": 3,
   "metadata": {},
   "outputs": [
    {
     "name": "stdout",
     "output_type": "stream",
     "text": [
      "X_test\n",
      "X_train\n",
      "X_val\n",
      "y_test\n",
      "y_train\n",
      "y_val\n"
     ]
    }
   ],
   "source": [
    "# Read H5 file\n",
    "f = h5.File(\"SVHN_single_grey1.h5\", \"r\")\n",
    "# Get and print list of datasets within the H5 file\n",
    "datasetNames = [n for n in f.keys()]\n",
    "for n in datasetNames:\n",
    "    print(n)"
   ]
  },
  {
   "cell_type": "code",
   "execution_count": 4,
   "metadata": {},
   "outputs": [
    {
     "data": {
      "text/plain": [
       "['X_test', 'X_train', 'X_val', 'y_test', 'y_train', 'y_val']"
      ]
     },
     "execution_count": 4,
     "metadata": {},
     "output_type": "execute_result"
    }
   ],
   "source": [
    "list(f)"
   ]
  },
  {
   "cell_type": "code",
   "execution_count": 5,
   "metadata": {},
   "outputs": [
    {
     "data": {
      "text/plain": [
       "['X_test', 'X_train', 'X_val', 'y_test', 'y_train', 'y_val']"
      ]
     },
     "execution_count": 5,
     "metadata": {},
     "output_type": "execute_result"
    }
   ],
   "source": [
    "datasetNames"
   ]
  },
  {
   "cell_type": "code",
   "execution_count": 6,
   "metadata": {},
   "outputs": [
    {
     "data": {
      "text/plain": [
       "(18000, 32, 32)"
      ]
     },
     "execution_count": 6,
     "metadata": {},
     "output_type": "execute_result"
    },
    {
     "data": {
      "text/plain": [
       "(42000, 32, 32)"
      ]
     },
     "execution_count": 6,
     "metadata": {},
     "output_type": "execute_result"
    },
    {
     "data": {
      "text/plain": [
       "(60000, 32, 32)"
      ]
     },
     "execution_count": 6,
     "metadata": {},
     "output_type": "execute_result"
    },
    {
     "data": {
      "text/plain": [
       "(18000,)"
      ]
     },
     "execution_count": 6,
     "metadata": {},
     "output_type": "execute_result"
    },
    {
     "data": {
      "text/plain": [
       "(42000,)"
      ]
     },
     "execution_count": 6,
     "metadata": {},
     "output_type": "execute_result"
    },
    {
     "data": {
      "text/plain": [
       "(60000,)"
      ]
     },
     "execution_count": 6,
     "metadata": {},
     "output_type": "execute_result"
    }
   ],
   "source": [
    "f['X_test'].shape\n",
    "f['X_train'].shape\n",
    "f['X_val'].shape\n",
    "f['y_test'].shape\n",
    "f['y_train'].shape\n",
    "f['y_val'].shape"
   ]
  },
  {
   "cell_type": "markdown",
   "metadata": {},
   "source": [
    "### Data fetching and understand the train/val/test splits."
   ]
  },
  {
   "cell_type": "code",
   "execution_count": 7,
   "metadata": {},
   "outputs": [
    {
     "data": {
      "text/plain": [
       "(42000, 32, 32)"
      ]
     },
     "execution_count": 7,
     "metadata": {},
     "output_type": "execute_result"
    },
    {
     "data": {
      "text/plain": [
       "(42000,)"
      ]
     },
     "execution_count": 7,
     "metadata": {},
     "output_type": "execute_result"
    },
    {
     "data": {
      "text/plain": [
       "(18000, 32, 32)"
      ]
     },
     "execution_count": 7,
     "metadata": {},
     "output_type": "execute_result"
    },
    {
     "data": {
      "text/plain": [
       "(18000,)"
      ]
     },
     "execution_count": 7,
     "metadata": {},
     "output_type": "execute_result"
    },
    {
     "data": {
      "text/plain": [
       "(60000, 32, 32)"
      ]
     },
     "execution_count": 7,
     "metadata": {},
     "output_type": "execute_result"
    },
    {
     "data": {
      "text/plain": [
       "(60000,)"
      ]
     },
     "execution_count": 7,
     "metadata": {},
     "output_type": "execute_result"
    }
   ],
   "source": [
    "X_test = f['X_test']\n",
    "X_train = f['X_train']\n",
    "X_val = f['X_val']\n",
    "\n",
    "y_test = f['y_test']\n",
    "y_train = f['y_train']\n",
    "y_val = f['y_val']\n",
    "\n",
    "X_train.shape\n",
    "y_train.shape\n",
    "X_test.shape\n",
    "y_test.shape\n",
    "X_val.shape\n",
    "y_val.shape"
   ]
  },
  {
   "cell_type": "code",
   "execution_count": 8,
   "metadata": {},
   "outputs": [
    {
     "name": "stdout",
     "output_type": "stream",
     "text": [
      "Label 20767 is 3\n"
     ]
    },
    {
     "data": {
      "text/plain": [
       "<matplotlib.image.AxesImage at 0x2c03a313198>"
      ]
     },
     "execution_count": 8,
     "metadata": {},
     "output_type": "execute_result"
    },
    {
     "data": {
      "image/png": "[encoded data removed]",
      "text/plain": [
       "<Figure size 432x288 with 1 Axes>"
      ]
     },
     "metadata": {
      "needs_background": "light"
     },
     "output_type": "display_data"
    }
   ],
   "source": [
    "i = np.random.randint(1, len(X_train))\n",
    "print(\"Label %d is\" % i, y_train[i])\n",
    "plt.imshow(X_train[i])"
   ]
  },
  {
   "cell_type": "code",
   "execution_count": 9,
   "metadata": {},
   "outputs": [
    {
     "data": {
      "text/plain": [
       "<Figure size 720x72 with 0 Axes>"
      ]
     },
     "execution_count": 9,
     "metadata": {},
     "output_type": "execute_result"
    },
    {
     "data": {
      "text/plain": [
       "<matplotlib.axes._subplots.AxesSubplot at 0x2c03b32fdd8>"
      ]
     },
     "execution_count": 9,
     "metadata": {},
     "output_type": "execute_result"
    },
    {
     "data": {
      "text/plain": [
       "<matplotlib.image.AxesImage at 0x2c03b37add8>"
      ]
     },
     "execution_count": 9,
     "metadata": {},
     "output_type": "execute_result"
    },
    {
     "data": {
      "text/plain": [
       "(-0.5, 31.5, 31.5, -0.5)"
      ]
     },
     "execution_count": 9,
     "metadata": {},
     "output_type": "execute_result"
    },
    {
     "name": "stdout",
     "output_type": "stream",
     "text": [
      "label for each of the below image: 0\n"
     ]
    },
    {
     "data": {
      "image/png": "[encoded data removed]",
      "text/plain": [
       "<Figure size 720x72 with 1 Axes>"
      ]
     },
     "metadata": {
      "needs_background": "light"
     },
     "output_type": "display_data"
    }
   ],
   "source": [
    "plt.figure(figsize=(10, 1)) #width 10, height 1\n",
    "\n",
    "plt.subplot(1, 10, 1)\n",
    "plt.imshow(X_train[0], cmap=\"gray\")\n",
    "plt.axis('off')\n",
    "print('label for each of the below image: %s' % (np.argmax(y_train[0:10][1])))\n",
    "plt.show()"
   ]
  },
  {
   "cell_type": "code",
   "execution_count": 10,
   "metadata": {},
   "outputs": [
    {
     "name": "stdout",
     "output_type": "stream",
     "text": [
      "(42000, 1024)\n"
     ]
    }
   ],
   "source": [
    "# Reshape the image data from 3D to 2D by using reshape and flatten methods from numpy\n",
    "X_train_reshaped = np.array([X_train[i].flatten() for i in range(0,X_train.shape[0])])\n",
    "print(X_train_reshaped.shape)"
   ]
  },
  {
   "cell_type": "code",
   "execution_count": 11,
   "metadata": {},
   "outputs": [
    {
     "name": "stdout",
     "output_type": "stream",
     "text": [
      "(18000, 1024)\n"
     ]
    }
   ],
   "source": [
    "X_test_reshaped = np.array([X_test[i].flatten() for i in range(0,X_test.shape[0])])\n",
    "print(X_test_reshaped.shape)"
   ]
  },
  {
   "cell_type": "markdown",
   "metadata": {},
   "source": [
    "### Implement and apply an optimal k-Nearest Neighbor (kNN) classifier (7.5 points)"
   ]
  },
  {
   "cell_type": "code",
   "execution_count": 15,
   "metadata": {},
   "outputs": [
    {
     "data": {
      "text/plain": [
       "KNeighborsClassifier(algorithm='auto', leaf_size=30, metric='minkowski',\n",
       "           metric_params=None, n_jobs=1, n_neighbors=15, p=2,\n",
       "           weights='uniform')"
      ]
     },
     "execution_count": 15,
     "metadata": {},
     "output_type": "execute_result"
    },
    {
     "data": {
      "text/plain": [
       "0.5235555555555556"
      ]
     },
     "execution_count": 15,
     "metadata": {},
     "output_type": "execute_result"
    },
    {
     "name": "stdout",
     "output_type": "stream",
     "text": [
      "KNN Model Accuracy :  0.5235555555555556\n",
      "Confusion Metrics :  [[1233   95  100  136  117  163  318   98  249  335]\n",
      " [  68 1335  215  251  247  164  122  227  115  137]\n",
      " [  39   70  992  136   41   62   38  116   62   70]\n",
      " [  39   83  107  734   60  268   72   84  119   92]\n",
      " [  51   75   55   50 1182   63  129   26  100   65]\n",
      " [  46   34   30  160   14  683  128   35  120  108]\n",
      " [ 113   32   37   42   54  156  741   35  253   56]\n",
      " [  37   51  138   54   17   31   23 1116   28   69]\n",
      " [  86   21   54   98   34  114  210   30  655  119]\n",
      " [ 102   32   75   58   46   64   51   41  111  753]]\n"
     ]
    }
   ],
   "source": [
    "# Train the model with KNN Classifier\n",
    "kNN_model = KNeighborsClassifier(n_neighbors = 15)\n",
    "kNN_model.fit(X_train_reshaped,y_train)\n",
    "\n",
    "kNN_model.score(X_test_reshaped, y_test)\n",
    "\n",
    "y_predict = kNN_model.predict(X_test_reshaped)\n",
    "\n",
    "print(\"KNN Model Accuracy : \", metrics.accuracy_score(y_predict, y_test))\n",
    "      \n",
    "print(\"Confusion Metrics : \", metrics.confusion_matrix(y_predict, y_test))"
   ]
  },
  {
   "cell_type": "markdown",
   "metadata": {},
   "source": [
    "### Print the classification metric report (2.5 points)"
   ]
  },
  {
   "cell_type": "code",
   "execution_count": 31,
   "metadata": {},
   "outputs": [
    {
     "name": "stdout",
     "output_type": "stream",
     "text": [
      "KNN Classification report :    \n",
      "              precision    recall  f1-score   support\n",
      "\n",
      "          0       0.86      0.88      0.87      1814\n",
      "          1       0.86      0.84      0.85      1828\n",
      "          2       0.87      0.84      0.85      1803\n",
      "          3       0.79      0.77      0.78      1719\n",
      "          4       0.85      0.88      0.86      1812\n",
      "          5       0.78      0.86      0.82      1768\n",
      "          6       0.84      0.82      0.83      1832\n",
      "          7       0.88      0.88      0.88      1808\n",
      "          8       0.83      0.78      0.80      1812\n",
      "          9       0.81      0.82      0.81      1804\n",
      "\n",
      "avg / total       0.84      0.84      0.84     18000\n",
      "\n"
     ]
    }
   ],
   "source": [
    "knn_cr=metrics.classification_report(y_test, y_predict)\n",
    "print(\"KNN Classification report :    \\n\", knn_cr)"
   ]
  },
  {
   "cell_type": "markdown",
   "metadata": {},
   "source": [
    "### Implement and apply a deep neural network classifier including (feedforward neural network, RELU activations) (5 points)"
   ]
  },
  {
   "cell_type": "code",
   "execution_count": 17,
   "metadata": {},
   "outputs": [],
   "source": [
    "import tensorflow as tf"
   ]
  },
  {
   "cell_type": "markdown",
   "metadata": {},
   "source": [
    "### Implement batch normalization for training the neural network (2.5 points)"
   ]
  },
  {
   "cell_type": "code",
   "execution_count": 18,
   "metadata": {},
   "outputs": [
    {
     "name": "stdout",
     "output_type": "stream",
     "text": [
      "WARNING:tensorflow:From C:\\Users\\varuraje.ORADEV\\AppData\\Local\\Continuum\\anaconda3\\lib\\site-packages\\tensorflow\\python\\ops\\resource_variable_ops.py:435: colocate_with (from tensorflow.python.framework.ops) is deprecated and will be removed in a future version.\n",
      "Instructions for updating:\n",
      "Colocations handled automatically by placer.\n"
     ]
    }
   ],
   "source": [
    "#Initialize Sequential model\n",
    "model = tf.keras.models.Sequential()\n",
    "#Reshape data from 2D to 1D -> 32X32 to 1024\n",
    "model.add(tf.keras.layers.Reshape((1024,),input_shape=(32,32)))\n",
    "\n",
    "#Initialize Sequential model\n",
    "model = tf.keras.models.Sequential()\n",
    "\n",
    "#Reshape data from 2D to 1D -> 28x28 to 784\n",
    "model.add(tf.keras.layers.Reshape((1024,),input_shape=(32,32,)))\n",
    "\n",
    "#Normalize the data\n",
    "model.add(tf.keras.layers.BatchNormalization())"
   ]
  },
  {
   "cell_type": "code",
   "execution_count": 19,
   "metadata": {},
   "outputs": [],
   "source": [
    "#Hidden layers\n",
    "model.add(tf.keras.layers.Dense(200, activation='relu', name='Layer_1'))\n",
    "model.add(tf.keras.layers.Dense(100, activation='relu', name='Layer_2'))\n",
    "\n",
    "#Output layer\n",
    "model.add(tf.keras.layers.Dense(10, activation='softmax', name='Output'))"
   ]
  },
  {
   "cell_type": "markdown",
   "metadata": {},
   "source": [
    "### Understand and be able to implement (vectorized) backpropagation (cost stochastic gradient descent, cross entropy loss, cost functions) (2.5 points)"
   ]
  },
  {
   "cell_type": "code",
   "execution_count": 20,
   "metadata": {},
   "outputs": [],
   "source": [
    "model.compile(optimizer='sgd', loss='categorical_crossentropy', metrics=['accuracy'])"
   ]
  },
  {
   "cell_type": "markdown",
   "metadata": {},
   "source": [
    "### Understand the differences and trade-offs between traditional and NN classifiers with the help of classification metrics (5 points)"
   ]
  },
  {
   "cell_type": "markdown",
   "metadata": {},
   "source": [
    "#### Change train and test labels into one-hot vectors"
   ]
  },
  {
   "cell_type": "code",
   "execution_count": 21,
   "metadata": {},
   "outputs": [],
   "source": [
    "trainY = tf.keras.utils.to_categorical(y_train, num_classes=10)\n",
    "testY = tf.keras.utils.to_categorical(y_test, num_classes=10)"
   ]
  },
  {
   "cell_type": "code",
   "execution_count": 22,
   "metadata": {},
   "outputs": [
    {
     "data": {
      "text/plain": [
       "(42000, 32, 32)"
      ]
     },
     "execution_count": 22,
     "metadata": {},
     "output_type": "execute_result"
    },
    {
     "data": {
      "text/plain": [
       "(42000,)"
      ]
     },
     "execution_count": 22,
     "metadata": {},
     "output_type": "execute_result"
    },
    {
     "data": {
      "text/plain": [
       "(18000, 32, 32)"
      ]
     },
     "execution_count": 22,
     "metadata": {},
     "output_type": "execute_result"
    },
    {
     "data": {
      "text/plain": [
       "(18000,)"
      ]
     },
     "execution_count": 22,
     "metadata": {},
     "output_type": "execute_result"
    },
    {
     "data": {
      "text/plain": [
       "(60000, 32, 32)"
      ]
     },
     "execution_count": 22,
     "metadata": {},
     "output_type": "execute_result"
    },
    {
     "data": {
      "text/plain": [
       "(60000,)"
      ]
     },
     "execution_count": 22,
     "metadata": {},
     "output_type": "execute_result"
    }
   ],
   "source": [
    "X_train.shape\n",
    "y_train.shape\n",
    "X_test.shape\n",
    "y_test.shape\n",
    "X_val.shape\n",
    "y_val.shape"
   ]
  },
  {
   "cell_type": "code",
   "execution_count": 24,
   "metadata": {},
   "outputs": [
    {
     "name": "stdout",
     "output_type": "stream",
     "text": [
      "Train on 42000 samples, validate on 18000 samples\n",
      "Epoch 1/30\n",
      "42000/42000 [==============================] - 6s 142us/sample - loss: 2.0355 - acc: 0.3057 - val_loss: 1.6811 - val_acc: 0.4820\n",
      "Epoch 2/30\n",
      "42000/42000 [==============================] - 4s 103us/sample - loss: 1.4691 - acc: 0.5575 - val_loss: 1.2697 - val_acc: 0.6286\n",
      "Epoch 3/30\n",
      "42000/42000 [==============================] - 4s 99us/sample - loss: 1.1919 - acc: 0.6456 - val_loss: 1.0849 - val_acc: 0.6859\n",
      "Epoch 4/30\n",
      "42000/42000 [==============================] - 4s 96us/sample - loss: 1.0508 - acc: 0.6910 - val_loss: 0.9894 - val_acc: 0.7144\n",
      "Epoch 5/30\n",
      "42000/42000 [==============================] - 4s 95us/sample - loss: 0.9563 - acc: 0.7174 - val_loss: 0.9161 - val_acc: 0.7313\n",
      "Epoch 6/30\n",
      "42000/42000 [==============================] - 4s 98us/sample - loss: 0.8852 - acc: 0.7401 - val_loss: 0.8676 - val_acc: 0.7461\n",
      "Epoch 7/30\n",
      "42000/42000 [==============================] - 4s 101us/sample - loss: 0.8264 - acc: 0.7561 - val_loss: 0.8254 - val_acc: 0.7603\n",
      "Epoch 8/30\n",
      "42000/42000 [==============================] - 4s 106us/sample - loss: 0.7780 - acc: 0.7698 - val_loss: 0.7884 - val_acc: 0.7729\n",
      "Epoch 9/30\n",
      "42000/42000 [==============================] - 4s 101us/sample - loss: 0.7365 - acc: 0.7821 - val_loss: 0.7607 - val_acc: 0.7817\n",
      "Epoch 10/30\n",
      "42000/42000 [==============================] - 4s 94us/sample - loss: 0.7015 - acc: 0.7922 - val_loss: 0.7437 - val_acc: 0.7854\n",
      "Epoch 11/30\n",
      "42000/42000 [==============================] - 4s 93us/sample - loss: 0.6714 - acc: 0.8021 - val_loss: 0.7269 - val_acc: 0.7908\n",
      "Epoch 12/30\n",
      "42000/42000 [==============================] - 4s 92us/sample - loss: 0.6444 - acc: 0.8078 - val_loss: 0.6934 - val_acc: 0.8038\n",
      "Epoch 13/30\n",
      "42000/42000 [==============================] - 4s 91us/sample - loss: 0.6215 - acc: 0.8161 - val_loss: 0.6806 - val_acc: 0.8084\n",
      "Epoch 14/30\n",
      "42000/42000 [==============================] - 4s 101us/sample - loss: 0.6003 - acc: 0.8202 - val_loss: 0.6738 - val_acc: 0.8078\n",
      "Epoch 15/30\n",
      "42000/42000 [==============================] - 4s 100us/sample - loss: 0.5798 - acc: 0.8275 - val_loss: 0.6635 - val_acc: 0.8111\n",
      "Epoch 16/30\n",
      "42000/42000 [==============================] - 4s 92us/sample - loss: 0.5642 - acc: 0.8323 - val_loss: 0.6657 - val_acc: 0.8079\n",
      "Epoch 17/30\n",
      "42000/42000 [==============================] - 4s 94us/sample - loss: 0.5476 - acc: 0.8381 - val_loss: 0.6662 - val_acc: 0.8108\n",
      "Epoch 18/30\n",
      "42000/42000 [==============================] - 4s 93us/sample - loss: 0.5338 - acc: 0.8422 - val_loss: 0.6334 - val_acc: 0.8224\n",
      "Epoch 19/30\n",
      "42000/42000 [==============================] - 5s 108us/sample - loss: 0.5198 - acc: 0.8459 - val_loss: 0.6320 - val_acc: 0.8215\n",
      "Epoch 20/30\n",
      "42000/42000 [==============================] - 4s 98us/sample - loss: 0.5072 - acc: 0.8501 - val_loss: 0.6234 - val_acc: 0.8256\n",
      "Epoch 21/30\n",
      "42000/42000 [==============================] - 4s 102us/sample - loss: 0.4945 - acc: 0.8534 - val_loss: 0.6309 - val_acc: 0.8234\n",
      "Epoch 22/30\n",
      "42000/42000 [==============================] - 5s 108us/sample - loss: 0.4842 - acc: 0.8570 - val_loss: 0.6101 - val_acc: 0.8308\n",
      "Epoch 23/30\n",
      "42000/42000 [==============================] - 4s 105us/sample - loss: 0.4748 - acc: 0.8600 - val_loss: 0.6252 - val_acc: 0.8254\n",
      "Epoch 24/30\n",
      "42000/42000 [==============================] - 4s 101us/sample - loss: 0.4634 - acc: 0.8622 - val_loss: 0.5979 - val_acc: 0.8342\n",
      "Epoch 25/30\n",
      "42000/42000 [==============================] - 4s 97us/sample - loss: 0.4550 - acc: 0.8639 - val_loss: 0.6118 - val_acc: 0.8281\n",
      "Epoch 26/30\n",
      "42000/42000 [==============================] - 4s 94us/sample - loss: 0.4463 - acc: 0.8674 - val_loss: 0.6167 - val_acc: 0.8277\n",
      "Epoch 27/30\n",
      "42000/42000 [==============================] - 4s 94us/sample - loss: 0.4364 - acc: 0.8701 - val_loss: 0.6021 - val_acc: 0.8326\n",
      "Epoch 28/30\n",
      "42000/42000 [==============================] - 4s 94us/sample - loss: 0.4287 - acc: 0.8723 - val_loss: 0.6045 - val_acc: 0.8331\n",
      "Epoch 29/30\n",
      "42000/42000 [==============================] - 4s 95us/sample - loss: 0.4206 - acc: 0.8744 - val_loss: 0.6009 - val_acc: 0.8342\n",
      "Epoch 30/30\n",
      "42000/42000 [==============================] - 4s 95us/sample - loss: 0.4145 - acc: 0.8767 - val_loss: 0.6034 - val_acc: 0.8373\n"
     ]
    },
    {
     "data": {
      "text/plain": [
       "<tensorflow.python.keras.callbacks.History at 0x2c06e1e46a0>"
      ]
     },
     "execution_count": 24,
     "metadata": {},
     "output_type": "execute_result"
    }
   ],
   "source": [
    "#Train the model\n",
    "model.fit(X_train, trainY, validation_data=(np.array(X_test), testY), epochs=30, batch_size=100, validation_split=0.01, shuffle='batch')"
   ]
  },
  {
   "cell_type": "code",
   "execution_count": 26,
   "metadata": {},
   "outputs": [
    {
     "name": "stdout",
     "output_type": "stream",
     "text": [
      "18000/18000 [==============================] - 1s 72us/sample - loss: 0.6034 - acc: 0.8373\n",
      "[0.603364553451538, 0.83727777]\n"
     ]
    }
   ],
   "source": [
    "loss_and_metrics = model.evaluate(X_test, testY)\n",
    "print(loss_and_metrics)"
   ]
  },
  {
   "cell_type": "code",
   "execution_count": 28,
   "metadata": {},
   "outputs": [],
   "source": [
    "y_predict = model.predict_classes(X_test)"
   ]
  },
  {
   "cell_type": "code",
   "execution_count": 32,
   "metadata": {},
   "outputs": [
    {
     "name": "stdout",
     "output_type": "stream",
     "text": [
      "Neural Networks Classification report :    \n",
      "              precision    recall  f1-score   support\n",
      "\n",
      "          0       0.86      0.88      0.87      1814\n",
      "          1       0.86      0.84      0.85      1828\n",
      "          2       0.87      0.84      0.85      1803\n",
      "          3       0.79      0.77      0.78      1719\n",
      "          4       0.85      0.88      0.86      1812\n",
      "          5       0.78      0.86      0.82      1768\n",
      "          6       0.84      0.82      0.83      1832\n",
      "          7       0.88      0.88      0.88      1808\n",
      "          8       0.83      0.78      0.80      1812\n",
      "          9       0.81      0.82      0.81      1804\n",
      "\n",
      "avg / total       0.84      0.84      0.84     18000\n",
      "\n"
     ]
    }
   ],
   "source": [
    "nn_cr=metrics.classification_report(y_test, y_predict)\n",
    "print(\"Neural Networks Classification report :    \\n\", nn_cr)"
   ]
  },
  {
   "cell_type": "markdown",
   "metadata": {},
   "source": [
    "### Observations"
   ]
  },
  {
   "cell_type": "markdown",
   "metadata": {},
   "source": [
    "#### The F1-Score from KNN Classifier and Neural Network is 0.53 and 0.87 respectively. The KNN is finding the accuracy of the provided features using the distance formula, so the accuracy is less in figures.Meantime, the Neural Network is processing the provided features by adjesting weights on the Dence layers and finding more classifications. This is clearly evident from the F1-score of the NN classification report"
   ]
  },
  {
   "cell_type": "code",
   "execution_count": null,
   "metadata": {},
   "outputs": [],
   "source": []
  }
 ],
 "metadata": {
  "kernelspec": {
   "display_name": "Python 3",
   "language": "python",
   "name": "python3"
  },
  "language_info": {
   "codemirror_mode": {
    "name": "ipython",
    "version": 3
   },
   "file_extension": ".py",
   "mimetype": "text/x-python",
   "name": "python",
   "nbconvert_exporter": "python",
   "pygments_lexer": "ipython3",
   "version": "3.7.0"
  }
 },
 "nbformat": 4,
 "nbformat_minor": 2
}
