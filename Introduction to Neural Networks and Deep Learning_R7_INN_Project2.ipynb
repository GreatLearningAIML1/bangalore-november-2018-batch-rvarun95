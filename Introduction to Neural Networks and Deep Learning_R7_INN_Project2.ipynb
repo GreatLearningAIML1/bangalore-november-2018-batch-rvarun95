{
 "cells": [
  {
   "cell_type": "markdown",
   "metadata": {},
   "source": [
    "### Import the libraries"
   ]
  },
  {
   "cell_type": "code",
   "execution_count": 1,
   "metadata": {},
   "outputs": [],
   "source": [
    "from IPython.core.interactiveshell import InteractiveShell\n",
    "InteractiveShell.ast_node_interactivity = \"all\""
   ]
  },
  {
   "cell_type": "code",
   "execution_count": 2,
   "metadata": {},
   "outputs": [],
   "source": [
    "import h5py as h5\n",
    "import numpy as np\n",
    "import pandas as pd\n",
    "import matplotlib.pyplot as plt\n",
    "\n",
    "# calculate accuracy measures and confusion matrix\n",
    "from sklearn import metrics\n",
    "# Create KNN classifier\n",
    "from sklearn.neighbors import KNeighborsClassifier"
   ]
  },
  {
   "cell_type": "markdown",
   "metadata": {},
   "source": [
    "### Understand the basic Image Classification pipeline and the data-driven approach (train/predict stages)"
   ]
  },
  {
   "cell_type": "code",
   "execution_count": 3,
   "metadata": {},
   "outputs": [
    {
     "name": "stdout",
     "output_type": "stream",
     "text": [
      "X_test\n",
      "X_train\n",
      "X_val\n",
      "y_test\n",
      "y_train\n",
      "y_val\n"
     ]
    }
   ],
   "source": [
    "# Read H5 file\n",
    "f = h5.File(\"SVHN_single_grey1.h5\", \"r\")\n",
    "# Get and print list of datasets within the H5 file\n",
    "datasetNames = [n for n in f.keys()]\n",
    "for n in datasetNames:\n",
    "    print(n)"
   ]
  },
  {
   "cell_type": "code",
   "execution_count": 4,
   "metadata": {},
   "outputs": [
    {
     "data": {
      "text/plain": [
       "['X_test', 'X_train', 'X_val', 'y_test', 'y_train', 'y_val']"
      ]
     },
     "execution_count": 4,
     "metadata": {},
     "output_type": "execute_result"
    }
   ],
   "source": [
    "list(f)"
   ]
  },
  {
   "cell_type": "code",
   "execution_count": 5,
   "metadata": {},
   "outputs": [
    {
     "data": {
      "text/plain": [
       "['X_test', 'X_train', 'X_val', 'y_test', 'y_train', 'y_val']"
      ]
     },
     "execution_count": 5,
     "metadata": {},
     "output_type": "execute_result"
    }
   ],
   "source": [
    "datasetNames"
   ]
  },
  {
   "cell_type": "code",
   "execution_count": 6,
   "metadata": {},
   "outputs": [
    {
     "data": {
      "text/plain": [
       "(18000, 32, 32)"
      ]
     },
     "execution_count": 6,
     "metadata": {},
     "output_type": "execute_result"
    },
    {
     "data": {
      "text/plain": [
       "(42000, 32, 32)"
      ]
     },
     "execution_count": 6,
     "metadata": {},
     "output_type": "execute_result"
    },
    {
     "data": {
      "text/plain": [
       "(60000, 32, 32)"
      ]
     },
     "execution_count": 6,
     "metadata": {},
     "output_type": "execute_result"
    },
    {
     "data": {
      "text/plain": [
       "(18000,)"
      ]
     },
     "execution_count": 6,
     "metadata": {},
     "output_type": "execute_result"
    },
    {
     "data": {
      "text/plain": [
       "(42000,)"
      ]
     },
     "execution_count": 6,
     "metadata": {},
     "output_type": "execute_result"
    },
    {
     "data": {
      "text/plain": [
       "(60000,)"
      ]
     },
     "execution_count": 6,
     "metadata": {},
     "output_type": "execute_result"
    }
   ],
   "source": [
    "f['X_test'].shape\n",
    "f['X_train'].shape\n",
    "f['X_val'].shape\n",
    "f['y_test'].shape\n",
    "f['y_train'].shape\n",
    "f['y_val'].shape"
   ]
  },
  {
   "cell_type": "markdown",
   "metadata": {},
   "source": [
    "### Data fetching and understand the train/val/test splits."
   ]
  },
  {
   "cell_type": "code",
   "execution_count": 7,
   "metadata": {},
   "outputs": [
    {
     "data": {
      "text/plain": [
       "(42000, 32, 32)"
      ]
     },
     "execution_count": 7,
     "metadata": {},
     "output_type": "execute_result"
    },
    {
     "data": {
      "text/plain": [
       "(42000,)"
      ]
     },
     "execution_count": 7,
     "metadata": {},
     "output_type": "execute_result"
    },
    {
     "data": {
      "text/plain": [
       "(18000, 32, 32)"
      ]
     },
     "execution_count": 7,
     "metadata": {},
     "output_type": "execute_result"
    },
    {
     "data": {
      "text/plain": [
       "(18000,)"
      ]
     },
     "execution_count": 7,
     "metadata": {},
     "output_type": "execute_result"
    },
    {
     "data": {
      "text/plain": [
       "(60000, 32, 32)"
      ]
     },
     "execution_count": 7,
     "metadata": {},
     "output_type": "execute_result"
    },
    {
     "data": {
      "text/plain": [
       "(60000,)"
      ]
     },
     "execution_count": 7,
     "metadata": {},
     "output_type": "execute_result"
    }
   ],
   "source": [
    "X_test = f['X_test']\n",
    "X_train = f['X_train']\n",
    "X_val = f['X_val']\n",
    "\n",
    "y_test = f['y_test']\n",
    "y_train = f['y_train']\n",
    "y_val = f['y_val']\n",
    "\n",
    "X_train.shape\n",
    "y_train.shape\n",
    "X_test.shape\n",
    "y_test.shape\n",
    "X_val.shape\n",
    "y_val.shape"
   ]
  },
  {
   "cell_type": "code",
   "execution_count": 8,
   "metadata": {},
   "outputs": [
    {
     "name": "stdout",
     "output_type": "stream",
     "text": [
      "Label 4648 is 5\n"
     ]
    },
    {
     "data": {
      "text/plain": [
       "<matplotlib.image.AxesImage at 0x1ca8e9dfeb8>"
      ]
     },
     "execution_count": 8,
     "metadata": {},
     "output_type": "execute_result"
    },
    {
     "data": {
      "image/png": "[encoded data removed]",
      "text/plain": [
       "<Figure size 432x288 with 1 Axes>"
      ]
     },
     "metadata": {
      "needs_background": "light"
     },
     "output_type": "display_data"
    }
   ],
   "source": [
    "i = np.random.randint(1, len(X_train))\n",
    "print(\"Label %d is\" % i, y_train[i])\n",
    "plt.imshow(X_train[i])"
   ]
  },
  {
   "cell_type": "code",
   "execution_count": 9,
   "metadata": {},
   "outputs": [
    {
     "data": {
      "text/plain": [
       "<Figure size 720x72 with 0 Axes>"
      ]
     },
     "execution_count": 9,
     "metadata": {},
     "output_type": "execute_result"
    },
    {
     "data": {
      "text/plain": [
       "<matplotlib.axes._subplots.AxesSubplot at 0x1ca8ea32eb8>"
      ]
     },
     "execution_count": 9,
     "metadata": {},
     "output_type": "execute_result"
    },
    {
     "data": {
      "text/plain": [
       "<matplotlib.image.AxesImage at 0x1ca8fa51be0>"
      ]
     },
     "execution_count": 9,
     "metadata": {},
     "output_type": "execute_result"
    },
    {
     "data": {
      "text/plain": [
       "(-0.5, 31.5, 31.5, -0.5)"
      ]
     },
     "execution_count": 9,
     "metadata": {},
     "output_type": "execute_result"
    },
    {
     "name": "stdout",
     "output_type": "stream",
     "text": [
      "label for each of the below image: 0\n"
     ]
    },
    {
     "data": {
      "image/png": "[encoded data removed]",
      "text/plain": [
       "<Figure size 720x72 with 1 Axes>"
      ]
     },
     "metadata": {
      "needs_background": "light"
     },
     "output_type": "display_data"
    }
   ],
   "source": [
    "plt.figure(figsize=(10, 1)) #width 10, height 1\n",
    "\n",
    "plt.subplot(1, 10, 1)\n",
    "plt.imshow(X_train[0], cmap=\"gray\")\n",
    "plt.axis('off')\n",
    "print('label for each of the below image: %s' % (np.argmax(y_train[0:10][1])))\n",
    "plt.show()"
   ]
  },
  {
   "cell_type": "code",
   "execution_count": 10,
   "metadata": {},
   "outputs": [
    {
     "name": "stdout",
     "output_type": "stream",
     "text": [
      "(42000, 1024)\n"
     ]
    }
   ],
   "source": [
    "# Reshape the image data from 3D to 2D by using reshape and flatten methods from numpy\n",
    "X_train_reshaped = np.array([X_train[i].flatten() for i in range(0,X_train.shape[0])])\n",
    "print(X_train_reshaped.shape)"
   ]
  },
  {
   "cell_type": "code",
   "execution_count": 11,
   "metadata": {},
   "outputs": [
    {
     "name": "stdout",
     "output_type": "stream",
     "text": [
      "(18000, 1024)\n"
     ]
    }
   ],
   "source": [
    "X_test_reshaped = np.array([X_test[i].flatten() for i in range(0,X_test.shape[0])])\n",
    "print(X_test_reshaped.shape)"
   ]
  },
  {
   "cell_type": "markdown",
   "metadata": {},
   "source": [
    "### Implement and apply an optimal k-Nearest Neighbor (kNN) classifier (7.5 points)"
   ]
  },
  {
   "cell_type": "code",
   "execution_count": 12,
   "metadata": {},
   "outputs": [
    {
     "data": {
      "text/plain": [
       "KNeighborsClassifier(algorithm='auto', leaf_size=30, metric='minkowski',\n",
       "           metric_params=None, n_jobs=1, n_neighbors=15, p=2,\n",
       "           weights='uniform')"
      ]
     },
     "execution_count": 12,
     "metadata": {},
     "output_type": "execute_result"
    },
    {
     "data": {
      "text/plain": [
       "0.5235555555555556"
      ]
     },
     "execution_count": 12,
     "metadata": {},
     "output_type": "execute_result"
    },
    {
     "name": "stdout",
     "output_type": "stream",
     "text": [
      "KNN Model Accuracy :  0.5235555555555556\n",
      "Confusion Metrics : \n",
      " [[1233   95  100  136  117  163  318   98  249  335]\n",
      " [  68 1335  215  251  247  164  122  227  115  137]\n",
      " [  39   70  992  136   41   62   38  116   62   70]\n",
      " [  39   83  107  734   60  268   72   84  119   92]\n",
      " [  51   75   55   50 1182   63  129   26  100   65]\n",
      " [  46   34   30  160   14  683  128   35  120  108]\n",
      " [ 113   32   37   42   54  156  741   35  253   56]\n",
      " [  37   51  138   54   17   31   23 1116   28   69]\n",
      " [  86   21   54   98   34  114  210   30  655  119]\n",
      " [ 102   32   75   58   46   64   51   41  111  753]]\n"
     ]
    }
   ],
   "source": [
    "# Train the model with KNN Classifier\n",
    "kNN_model = KNeighborsClassifier(n_neighbors = 15)\n",
    "kNN_model.fit(X_train_reshaped,y_train)\n",
    "\n",
    "kNN_model.score(X_test_reshaped, y_test)\n",
    "\n",
    "y_predict = kNN_model.predict(X_test_reshaped)\n",
    "\n",
    "print(\"KNN Model Accuracy : \", metrics.accuracy_score(y_predict, y_test))\n",
    "      \n",
    "print(\"Confusion Metrics : \\n\", metrics.confusion_matrix(y_predict, y_test))"
   ]
  },
  {
   "cell_type": "markdown",
   "metadata": {},
   "source": [
    "### Print the classification metric report (2.5 points)"
   ]
  },
  {
   "cell_type": "code",
   "execution_count": 13,
   "metadata": {},
   "outputs": [
    {
     "name": "stdout",
     "output_type": "stream",
     "text": [
      "KNN Classification report :    \n",
      "              precision    recall  f1-score   support\n",
      "\n",
      "          0       0.43      0.68      0.53      1814\n",
      "          1       0.46      0.73      0.57      1828\n",
      "          2       0.61      0.55      0.58      1803\n",
      "          3       0.44      0.43      0.43      1719\n",
      "          4       0.66      0.65      0.66      1812\n",
      "          5       0.50      0.39      0.44      1768\n",
      "          6       0.49      0.40      0.44      1832\n",
      "          7       0.71      0.62      0.66      1808\n",
      "          8       0.46      0.36      0.41      1812\n",
      "          9       0.56      0.42      0.48      1804\n",
      "\n",
      "avg / total       0.53      0.52      0.52     18000\n",
      "\n"
     ]
    }
   ],
   "source": [
    "knn_cr=metrics.classification_report(y_test, y_predict)\n",
    "print(\"KNN Classification report :    \\n\", knn_cr)"
   ]
  },
  {
   "cell_type": "markdown",
   "metadata": {},
   "source": [
    "### Implement and apply a deep neural network classifier including (feedforward neural network, RELU activations) (5 points)"
   ]
  },
  {
   "cell_type": "code",
   "execution_count": 14,
   "metadata": {},
   "outputs": [],
   "source": [
    "import tensorflow as tf"
   ]
  },
  {
   "cell_type": "markdown",
   "metadata": {},
   "source": [
    "### Implement batch normalization for training the neural network (2.5 points)"
   ]
  },
  {
   "cell_type": "code",
   "execution_count": 15,
   "metadata": {},
   "outputs": [
    {
     "name": "stdout",
     "output_type": "stream",
     "text": [
      "WARNING:tensorflow:From C:\\Users\\varuraje.ORADEV\\AppData\\Local\\Continuum\\anaconda3\\lib\\site-packages\\tensorflow\\python\\ops\\resource_variable_ops.py:435: colocate_with (from tensorflow.python.framework.ops) is deprecated and will be removed in a future version.\n",
      "Instructions for updating:\n",
      "Colocations handled automatically by placer.\n"
     ]
    }
   ],
   "source": [
    "#Initialize Sequential model\n",
    "model = tf.keras.models.Sequential()\n",
    "#Reshape data from 2D to 1D -> 32X32 to 1024\n",
    "model.add(tf.keras.layers.Reshape((1024,),input_shape=(32,32)))\n",
    "\n",
    "#Normalize the data\n",
    "model.add(tf.keras.layers.BatchNormalization())"
   ]
  },
  {
   "cell_type": "code",
   "execution_count": 16,
   "metadata": {},
   "outputs": [],
   "source": [
    "#Hidden layers\n",
    "model.add(tf.keras.layers.Dense(200, activation='relu', name='Layer_1'))\n",
    "model.add(tf.keras.layers.Dense(100, activation='relu', name='Layer_2'))\n",
    "\n",
    "#Output layer\n",
    "model.add(tf.keras.layers.Dense(10, activation='softmax', name='Output'))"
   ]
  },
  {
   "cell_type": "markdown",
   "metadata": {},
   "source": [
    "### Understand and be able to implement (vectorized) backpropagation (cost stochastic gradient descent, cross entropy loss, cost functions) (2.5 points)"
   ]
  },
  {
   "cell_type": "code",
   "execution_count": 17,
   "metadata": {},
   "outputs": [],
   "source": [
    "model.compile(optimizer='sgd', loss='categorical_crossentropy', metrics=['accuracy'])"
   ]
  },
  {
   "cell_type": "markdown",
   "metadata": {},
   "source": [
    "### Understand the differences and trade-offs between traditional and NN classifiers with the help of classification metrics (5 points)"
   ]
  },
  {
   "cell_type": "markdown",
   "metadata": {},
   "source": [
    "#### Change train and test labels into one-hot vectors"
   ]
  },
  {
   "cell_type": "code",
   "execution_count": 18,
   "metadata": {},
   "outputs": [],
   "source": [
    "trainY = tf.keras.utils.to_categorical(y_train, num_classes=10)\n",
    "testY = tf.keras.utils.to_categorical(y_test, num_classes=10)"
   ]
  },
  {
   "cell_type": "code",
   "execution_count": 19,
   "metadata": {},
   "outputs": [
    {
     "data": {
      "text/plain": [
       "(42000, 32, 32)"
      ]
     },
     "execution_count": 19,
     "metadata": {},
     "output_type": "execute_result"
    },
    {
     "data": {
      "text/plain": [
       "(42000,)"
      ]
     },
     "execution_count": 19,
     "metadata": {},
     "output_type": "execute_result"
    },
    {
     "data": {
      "text/plain": [
       "(18000, 32, 32)"
      ]
     },
     "execution_count": 19,
     "metadata": {},
     "output_type": "execute_result"
    },
    {
     "data": {
      "text/plain": [
       "(18000,)"
      ]
     },
     "execution_count": 19,
     "metadata": {},
     "output_type": "execute_result"
    },
    {
     "data": {
      "text/plain": [
       "(60000, 32, 32)"
      ]
     },
     "execution_count": 19,
     "metadata": {},
     "output_type": "execute_result"
    },
    {
     "data": {
      "text/plain": [
       "(60000,)"
      ]
     },
     "execution_count": 19,
     "metadata": {},
     "output_type": "execute_result"
    }
   ],
   "source": [
    "X_train.shape\n",
    "y_train.shape\n",
    "X_test.shape\n",
    "y_test.shape\n",
    "X_val.shape\n",
    "y_val.shape"
   ]
  },
  {
   "cell_type": "code",
   "execution_count": 20,
   "metadata": {},
   "outputs": [
    {
     "name": "stdout",
     "output_type": "stream",
     "text": [
      "Train on 42000 samples, validate on 18000 samples\n",
      "WARNING:tensorflow:From C:\\Users\\varuraje.ORADEV\\AppData\\Local\\Continuum\\anaconda3\\lib\\site-packages\\tensorflow\\python\\ops\\math_ops.py:3066: to_int32 (from tensorflow.python.ops.math_ops) is deprecated and will be removed in a future version.\n",
      "Instructions for updating:\n",
      "Use tf.cast instead.\n",
      "Epoch 1/30\n",
      "42000/42000 [==============================] - 4s 106us/sample - loss: 2.1023 - acc: 0.2733 - val_loss: 1.7634 - val_acc: 0.4644\n",
      "Epoch 2/30\n",
      "42000/42000 [==============================] - 5s 115us/sample - loss: 1.5181 - acc: 0.5456 - val_loss: 1.3009 - val_acc: 0.6241\n",
      "Epoch 3/30\n",
      "42000/42000 [==============================] - 4s 106us/sample - loss: 1.2081 - acc: 0.6435 - val_loss: 1.1004 - val_acc: 0.6810\n",
      "Epoch 4/30\n",
      "42000/42000 [==============================] - 4s 98us/sample - loss: 1.0581 - acc: 0.6855 - val_loss: 0.9936 - val_acc: 0.7092\n",
      "Epoch 5/30\n",
      "42000/42000 [==============================] - 4s 99us/sample - loss: 0.9618 - acc: 0.7131 - val_loss: 0.9253 - val_acc: 0.7288\n",
      "Epoch 6/30\n",
      "42000/42000 [==============================] - 4s 96us/sample - loss: 0.8881 - acc: 0.7350 - val_loss: 0.8671 - val_acc: 0.7482\n",
      "Epoch 7/30\n",
      "42000/42000 [==============================] - 4s 102us/sample - loss: 0.8295 - acc: 0.7538 - val_loss: 0.8362 - val_acc: 0.7550\n",
      "Epoch 8/30\n",
      "42000/42000 [==============================] - 4s 102us/sample - loss: 0.7815 - acc: 0.7693 - val_loss: 0.8041 - val_acc: 0.7653\n",
      "Epoch 9/30\n",
      "42000/42000 [==============================] - 4s 104us/sample - loss: 0.7425 - acc: 0.7806 - val_loss: 0.7573 - val_acc: 0.7809\n",
      "Epoch 10/30\n",
      "42000/42000 [==============================] - 4s 97us/sample - loss: 0.7088 - acc: 0.7879 - val_loss: 0.7414 - val_acc: 0.7828\n",
      "Epoch 11/30\n",
      "42000/42000 [==============================] - 4s 98us/sample - loss: 0.6789 - acc: 0.7983 - val_loss: 0.7311 - val_acc: 0.7887\n",
      "Epoch 12/30\n",
      "42000/42000 [==============================] - 4s 99us/sample - loss: 0.6529 - acc: 0.8060 - val_loss: 0.7091 - val_acc: 0.7974\n",
      "Epoch 13/30\n",
      "42000/42000 [==============================] - 4s 97us/sample - loss: 0.6301 - acc: 0.8123 - val_loss: 0.6915 - val_acc: 0.8023\n",
      "Epoch 14/30\n",
      "42000/42000 [==============================] - 4s 104us/sample - loss: 0.6095 - acc: 0.8196 - val_loss: 0.6731 - val_acc: 0.8079\n",
      "Epoch 15/30\n",
      "42000/42000 [==============================] - 4s 104us/sample - loss: 0.5884 - acc: 0.8251 - val_loss: 0.6713 - val_acc: 0.8076\n",
      "Epoch 16/30\n",
      "42000/42000 [==============================] - 5s 109us/sample - loss: 0.5723 - acc: 0.8301 - val_loss: 0.6551 - val_acc: 0.8141\n",
      "Epoch 17/30\n",
      "42000/42000 [==============================] - 4s 97us/sample - loss: 0.5569 - acc: 0.8347 - val_loss: 0.6486 - val_acc: 0.8172\n",
      "Epoch 18/30\n",
      "42000/42000 [==============================] - 4s 98us/sample - loss: 0.5387 - acc: 0.8410 - val_loss: 0.6475 - val_acc: 0.8181\n",
      "Epoch 19/30\n",
      "42000/42000 [==============================] - 4s 96us/sample - loss: 0.5265 - acc: 0.8425 - val_loss: 0.6366 - val_acc: 0.8206\n",
      "Epoch 20/30\n",
      "42000/42000 [==============================] - 4s 96us/sample - loss: 0.5151 - acc: 0.8463 - val_loss: 0.6204 - val_acc: 0.8288\n",
      "Epoch 21/30\n",
      "42000/42000 [==============================] - 4s 101us/sample - loss: 0.5014 - acc: 0.8505 - val_loss: 0.6507 - val_acc: 0.8195\n",
      "Epoch 22/30\n",
      "42000/42000 [==============================] - 5s 111us/sample - loss: 0.4904 - acc: 0.8556 - val_loss: 0.6212 - val_acc: 0.8272\n",
      "Epoch 23/30\n",
      "42000/42000 [==============================] - 4s 103us/sample - loss: 0.4795 - acc: 0.8565 - val_loss: 0.6075 - val_acc: 0.8299\n",
      "Epoch 24/30\n",
      "42000/42000 [==============================] - 4s 97us/sample - loss: 0.4689 - acc: 0.8606 - val_loss: 0.6080 - val_acc: 0.8319\n",
      "Epoch 25/30\n",
      "42000/42000 [==============================] - 4s 98us/sample - loss: 0.4596 - acc: 0.8637 - val_loss: 0.6122 - val_acc: 0.8296\n",
      "Epoch 26/30\n",
      "42000/42000 [==============================] - 4s 102us/sample - loss: 0.4507 - acc: 0.8654 - val_loss: 0.6053 - val_acc: 0.8308\n",
      "Epoch 27/30\n",
      "42000/42000 [==============================] - 4s 106us/sample - loss: 0.4420 - acc: 0.8676 - val_loss: 0.6139 - val_acc: 0.8291\n",
      "Epoch 28/30\n",
      "42000/42000 [==============================] - 4s 102us/sample - loss: 0.4335 - acc: 0.8712 - val_loss: 0.5986 - val_acc: 0.8331\n",
      "Epoch 29/30\n",
      "42000/42000 [==============================] - 5s 108us/sample - loss: 0.4262 - acc: 0.8729 - val_loss: 0.6117 - val_acc: 0.8302\n",
      "Epoch 30/30\n",
      "42000/42000 [==============================] - 4s 98us/sample - loss: 0.4169 - acc: 0.8758 - val_loss: 0.6035 - val_acc: 0.8327\n"
     ]
    },
    {
     "data": {
      "text/plain": [
       "<tensorflow.python.keras.callbacks.History at 0x1cac20f7780>"
      ]
     },
     "execution_count": 20,
     "metadata": {},
     "output_type": "execute_result"
    }
   ],
   "source": [
    "#Train the model\n",
    "model.fit(X_train, trainY, validation_data=(np.array(X_test), testY), epochs=30, batch_size=100, validation_split=0.01, shuffle='batch')"
   ]
  },
  {
   "cell_type": "code",
   "execution_count": 21,
   "metadata": {},
   "outputs": [
    {
     "name": "stdout",
     "output_type": "stream",
     "text": [
      "18000/18000 [==============================] - 1s 76us/sample - loss: 0.6035 - acc: 0.8327\n",
      "[0.6035474868218104, 0.83272225]\n"
     ]
    }
   ],
   "source": [
    "loss_and_metrics = model.evaluate(X_test, testY)\n",
    "print(loss_and_metrics)"
   ]
  },
  {
   "cell_type": "code",
   "execution_count": 22,
   "metadata": {},
   "outputs": [],
   "source": [
    "y_predict = model.predict_classes(X_test)"
   ]
  },
  {
   "cell_type": "code",
   "execution_count": 23,
   "metadata": {},
   "outputs": [
    {
     "name": "stdout",
     "output_type": "stream",
     "text": [
      "Neural Networks Classification report :    \n",
      "              precision    recall  f1-score   support\n",
      "\n",
      "          0       0.81      0.89      0.85      1814\n",
      "          1       0.80      0.87      0.84      1828\n",
      "          2       0.89      0.84      0.86      1803\n",
      "          3       0.77      0.78      0.78      1719\n",
      "          4       0.88      0.86      0.87      1812\n",
      "          5       0.81      0.84      0.82      1768\n",
      "          6       0.84      0.82      0.83      1832\n",
      "          7       0.87      0.87      0.87      1808\n",
      "          8       0.85      0.76      0.80      1812\n",
      "          9       0.82      0.81      0.81      1804\n",
      "\n",
      "avg / total       0.83      0.83      0.83     18000\n",
      "\n"
     ]
    }
   ],
   "source": [
    "nn_cr=metrics.classification_report(y_test, y_predict)\n",
    "print(\"Neural Networks Classification report :    \\n\", nn_cr)"
   ]
  },
  {
   "cell_type": "markdown",
   "metadata": {},
   "source": [
    "### Observations"
   ]
  },
  {
   "cell_type": "markdown",
   "metadata": {},
   "source": [
    "#### The F1-Score from KNN Classifier and Neural Network is 0.52 and 0.83 respectively. The KNN is finding the accuracy of the provided features using the distance formula, so the accuracy is less in figures.Meantime, the Neural Network is processing the provided features by adjesting weights on the Dence layers and finding more classifications. This is clearly evident from the F1-score of the NN classification report"
   ]
  },
  {
   "cell_type": "code",
   "execution_count": null,
   "metadata": {},
   "outputs": [],
   "source": []
  }
 ],
 "metadata": {
  "kernelspec": {
   "display_name": "Python 3",
   "language": "python",
   "name": "python3"
  },
  "language_info": {
   "codemirror_mode": {
    "name": "ipython",
    "version": 3
   },
   "file_extension": ".py",
   "mimetype": "text/x-python",
   "name": "python",
   "nbconvert_exporter": "python",
   "pygments_lexer": "ipython3",
   "version": "3.7.0"
  }
 },
 "nbformat": 4,
 "nbformat_minor": 2
}
