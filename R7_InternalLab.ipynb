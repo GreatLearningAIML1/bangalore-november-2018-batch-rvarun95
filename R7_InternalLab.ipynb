{
 "cells": [
  {
   "cell_type": "markdown",
   "metadata": {
    "colab_type": "text",
    "id": "4WH1Pr4KQlCh"
   },
   "source": [
    "### Build a DNN using Keras with `RELU` and `ADAM`"
   ]
  },
  {
   "cell_type": "markdown",
   "metadata": {
    "colab_type": "text",
    "id": "TbvI8LqlQlCl",
    "slideshow": {
     "slide_type": "slide"
    }
   },
   "source": [
    "#### Load tensorflow"
   ]
  },
  {
   "cell_type": "code",
   "execution_count": 1,
   "metadata": {
    "colab": {},
    "colab_type": "code",
    "id": "SPW-a-qYQlCp"
   },
   "outputs": [],
   "source": [
    "import tensorflow as tf\n",
    "tf.set_random_seed(42)"
   ]
  },
  {
   "cell_type": "markdown",
   "metadata": {
    "colab_type": "text",
    "id": "74cQBsi5QlCw",
    "slideshow": {
     "slide_type": "slide"
    }
   },
   "source": [
    "#### Collect Fashion mnist data from tf.keras.datasets "
   ]
  },
  {
   "cell_type": "code",
   "execution_count": 2,
   "metadata": {
    "colab": {},
    "colab_type": "code",
    "id": "wVWy0oDTr2Kj"
   },
   "outputs": [
    {
     "name": "stderr",
     "output_type": "stream",
     "text": [
      "Using TensorFlow backend.\n"
     ]
    }
   ],
   "source": [
    "import keras\n",
    "from keras.datasets import fashion_mnist"
   ]
  },
  {
   "cell_type": "markdown",
   "metadata": {
    "colab_type": "text",
    "id": "no7aWYZyQlC1",
    "slideshow": {
     "slide_type": "slide"
    }
   },
   "source": [
    "#### Change train and test labels into one-hot vectors"
   ]
  },
  {
   "cell_type": "code",
   "execution_count": 3,
   "metadata": {
    "colab": {},
    "colab_type": "code",
    "id": "UX6otc4wQlC2"
   },
   "outputs": [
    {
     "name": "stdout",
     "output_type": "stream",
     "text": [
      "(60000, 28, 28)\n",
      "(10000, 28, 28)\n"
     ]
    }
   ],
   "source": [
    "(trainX, trainY), (testX, testY) = fashion_mnist.load_data()\n",
    "trainY = tf.keras.utils.to_categorical(trainY, num_classes=10)\n",
    "testY = tf.keras.utils.to_categorical(testY, num_classes=10)\n",
    "\n",
    "print(trainX.shape)\n",
    "print(testX.shape)"
   ]
  },
  {
   "cell_type": "markdown",
   "metadata": {
    "colab_type": "text",
    "id": "QjNrRTdoQlC5",
    "slideshow": {
     "slide_type": "slide"
    }
   },
   "source": [
    "#### Build the Graph"
   ]
  },
  {
   "cell_type": "markdown",
   "metadata": {
    "colab_type": "text",
    "id": "CDJ9DHVNQlC7"
   },
   "source": [
    "#### Initialize model, reshape & normalize data"
   ]
  },
  {
   "cell_type": "code",
   "execution_count": 4,
   "metadata": {
    "colab": {
     "base_uri": "https://localhost:8080/",
     "height": 88
    },
    "colab_type": "code",
    "id": "pCDQs_g1QlC8",
    "outputId": "e854b4d2-903a-4515-c21b-bd6a6e4fe2f8"
   },
   "outputs": [
    {
     "name": "stdout",
     "output_type": "stream",
     "text": [
      "WARNING:tensorflow:From C:\\Users\\varuraje.ORADEV\\AppData\\Local\\Continuum\\anaconda3\\lib\\site-packages\\tensorflow\\python\\ops\\resource_variable_ops.py:435: colocate_with (from tensorflow.python.framework.ops) is deprecated and will be removed in a future version.\n",
      "Instructions for updating:\n",
      "Colocations handled automatically by placer.\n"
     ]
    }
   ],
   "source": [
    "#Initialize Sequential model\n",
    "model = tf.keras.models.Sequential()\n",
    "\n",
    "#Reshape data from 2D to 1D -> 28x28 to 784\n",
    "model.add(tf.keras.layers.Reshape((784,),input_shape=(28,28,)))\n",
    "\n",
    "#Normalize the data\n",
    "model.add(tf.keras.layers.BatchNormalization())"
   ]
  },
  {
   "cell_type": "markdown",
   "metadata": {
    "colab_type": "text",
    "id": "kBGwTTilQlDD",
    "slideshow": {
     "slide_type": "slide"
    }
   },
   "source": [
    "#### Add two fully connected layers with 200 and 100 neurons respectively with `relu` activations. Add a dropout layer with `p=0.25`"
   ]
  },
  {
   "cell_type": "code",
   "execution_count": 5,
   "metadata": {
    "colab": {
     "base_uri": "https://localhost:8080/",
     "height": 88
    },
    "colab_type": "code",
    "id": "IXbfpfOzQlDF",
    "outputId": "f46a2e3a-2634-4e9e-88bd-57bb8de1ff0c"
   },
   "outputs": [
    {
     "name": "stdout",
     "output_type": "stream",
     "text": [
      "WARNING:tensorflow:From C:\\Users\\varuraje.ORADEV\\AppData\\Local\\Continuum\\anaconda3\\lib\\site-packages\\tensorflow\\python\\keras\\layers\\core.py:143: calling dropout (from tensorflow.python.ops.nn_ops) with keep_prob is deprecated and will be removed in a future version.\n",
      "Instructions for updating:\n",
      "Please use `rate` instead of `keep_prob`. Rate should be set to `rate = 1 - keep_prob`.\n"
     ]
    }
   ],
   "source": [
    "#Hidden layers\n",
    "model.add(tf.keras.layers.Dense(200, activation='relu', name='Layer_1'))\n",
    "model.add(tf.keras.layers.Dense(100, activation='relu', name='Layer_2'))\n",
    "\n",
    "#Dropout layer\n",
    "model.add(tf.keras.layers.Dropout(0.25))"
   ]
  },
  {
   "cell_type": "code",
   "execution_count": 9,
   "metadata": {},
   "outputs": [
    {
     "name": "stdout",
     "output_type": "stream",
     "text": [
      "_________________________________________________________________\n",
      "Layer (type)                 Output Shape              Param #   \n",
      "=================================================================\n",
      "reshape (Reshape)            (None, 784)               0         \n",
      "_________________________________________________________________\n",
      "batch_normalization_v1 (Batc (None, 784)               3136      \n",
      "_________________________________________________________________\n",
      "Layer_1 (Dense)              (None, 200)               157000    \n",
      "_________________________________________________________________\n",
      "Layer_2 (Dense)              (None, 100)               20100     \n",
      "_________________________________________________________________\n",
      "dropout (Dropout)            (None, 100)               0         \n",
      "_________________________________________________________________\n",
      "Output (Dense)               (None, 10)                1010      \n",
      "=================================================================\n",
      "Total params: 181,246\n",
      "Trainable params: 179,678\n",
      "Non-trainable params: 1,568\n",
      "_________________________________________________________________\n"
     ]
    }
   ],
   "source": [
    "model.summary()"
   ]
  },
  {
   "cell_type": "code",
   "execution_count": null,
   "metadata": {},
   "outputs": [],
   "source": []
  },
  {
   "cell_type": "markdown",
   "metadata": {
    "colab_type": "text",
    "id": "5I8f5otcQlDJ"
   },
   "source": [
    "### Add the output layer with a fully connected layer with 10 neurons with `softmax` activation. Use `categorical_crossentropy` loss and `adam` optimizer and train the network. And, report the final validation."
   ]
  },
  {
   "cell_type": "code",
   "execution_count": 6,
   "metadata": {},
   "outputs": [],
   "source": [
    "#Output layer\n",
    "model.add(tf.keras.layers.Dense(10, activation='softmax', name='Output'))"
   ]
  },
  {
   "cell_type": "code",
   "execution_count": 7,
   "metadata": {},
   "outputs": [],
   "source": [
    "model.compile(optimizer='adam', loss='categorical_crossentropy', metrics=['accuracy'])"
   ]
  },
  {
   "cell_type": "code",
   "execution_count": 8,
   "metadata": {},
   "outputs": [
    {
     "name": "stdout",
     "output_type": "stream",
     "text": [
      "Train on 60000 samples, validate on 10000 samples\n",
      "WARNING:tensorflow:From C:\\Users\\varuraje.ORADEV\\AppData\\Local\\Continuum\\anaconda3\\lib\\site-packages\\tensorflow\\python\\ops\\math_ops.py:3066: to_int32 (from tensorflow.python.ops.math_ops) is deprecated and will be removed in a future version.\n",
      "Instructions for updating:\n",
      "Use tf.cast instead.\n",
      "Epoch 1/30\n",
      "60000/60000 [==============================] - 10s 162us/sample - loss: 0.5103 - acc: 0.8176 - val_loss: 0.4126 - val_acc: 0.8482\n",
      "Epoch 2/30\n",
      "60000/60000 [==============================] - 9s 144us/sample - loss: 0.3965 - acc: 0.8564 - val_loss: 0.3714 - val_acc: 0.8639\n",
      "Epoch 3/30\n",
      "60000/60000 [==============================] - 9s 156us/sample - loss: 0.3578 - acc: 0.8681 - val_loss: 0.3798 - val_acc: 0.8639\n",
      "Epoch 4/30\n",
      "60000/60000 [==============================] - 9s 155us/sample - loss: 0.3366 - acc: 0.8749 - val_loss: 0.3480 - val_acc: 0.8758\n",
      "Epoch 5/30\n",
      "60000/60000 [==============================] - 8s 133us/sample - loss: 0.3202 - acc: 0.8815 - val_loss: 0.3479 - val_acc: 0.8753\n",
      "Epoch 6/30\n",
      "60000/60000 [==============================] - 9s 148us/sample - loss: 0.3006 - acc: 0.8889 - val_loss: 0.3510 - val_acc: 0.8794\n",
      "Epoch 7/30\n",
      "60000/60000 [==============================] - 8s 141us/sample - loss: 0.2869 - acc: 0.8932 - val_loss: 0.3614 - val_acc: 0.8740\n",
      "Epoch 8/30\n",
      "60000/60000 [==============================] - 8s 139us/sample - loss: 0.2744 - acc: 0.8967 - val_loss: 0.3398 - val_acc: 0.8821\n",
      "Epoch 9/30\n",
      "60000/60000 [==============================] - 9s 142us/sample - loss: 0.2615 - acc: 0.9018 - val_loss: 0.3390 - val_acc: 0.8857\n",
      "Epoch 10/30\n",
      "60000/60000 [==============================] - 8s 140us/sample - loss: 0.2523 - acc: 0.9039 - val_loss: 0.3443 - val_acc: 0.8855\n",
      "Epoch 11/30\n",
      "60000/60000 [==============================] - 8s 141us/sample - loss: 0.2445 - acc: 0.9079 - val_loss: 0.3422 - val_acc: 0.8852\n",
      "Epoch 12/30\n",
      "60000/60000 [==============================] - 9s 152us/sample - loss: 0.2402 - acc: 0.9092 - val_loss: 0.3335 - val_acc: 0.8886\n",
      "Epoch 13/30\n",
      "60000/60000 [==============================] - 9s 148us/sample - loss: 0.2324 - acc: 0.9121 - val_loss: 0.3748 - val_acc: 0.8806\n",
      "Epoch 14/30\n",
      "60000/60000 [==============================] - 9s 149us/sample - loss: 0.2263 - acc: 0.9138 - val_loss: 0.3312 - val_acc: 0.8894\n",
      "Epoch 15/30\n",
      "60000/60000 [==============================] - 8s 130us/sample - loss: 0.2159 - acc: 0.9171 - val_loss: 0.3463 - val_acc: 0.8920\n",
      "Epoch 16/30\n",
      "60000/60000 [==============================] - 8s 139us/sample - loss: 0.2128 - acc: 0.9187 - val_loss: 0.3319 - val_acc: 0.8929\n",
      "Epoch 17/30\n",
      "60000/60000 [==============================] - 8s 129us/sample - loss: 0.2094 - acc: 0.9198 - val_loss: 0.3479 - val_acc: 0.8904\n",
      "Epoch 18/30\n",
      "60000/60000 [==============================] - 9s 144us/sample - loss: 0.2020 - acc: 0.9233 - val_loss: 0.3479 - val_acc: 0.8923\n",
      "Epoch 19/30\n",
      "60000/60000 [==============================] - 9s 144us/sample - loss: 0.1991 - acc: 0.9240 - val_loss: 0.3334 - val_acc: 0.8952\n",
      "Epoch 20/30\n",
      "60000/60000 [==============================] - 8s 141us/sample - loss: 0.1934 - acc: 0.9260 - val_loss: 0.3666 - val_acc: 0.8896\n",
      "Epoch 21/30\n",
      "60000/60000 [==============================] - 9s 144us/sample - loss: 0.1912 - acc: 0.9272 - val_loss: 0.3632 - val_acc: 0.8893\n",
      "Epoch 22/30\n",
      "60000/60000 [==============================] - 8s 141us/sample - loss: 0.1841 - acc: 0.9305 - val_loss: 0.3785 - val_acc: 0.8924\n",
      "Epoch 23/30\n",
      "60000/60000 [==============================] - 9s 143us/sample - loss: 0.1807 - acc: 0.9309 - val_loss: 0.3933 - val_acc: 0.8913\n",
      "Epoch 24/30\n",
      "60000/60000 [==============================] - 9s 142us/sample - loss: 0.1802 - acc: 0.9313 - val_loss: 0.3946 - val_acc: 0.8908\n",
      "Epoch 25/30\n",
      "60000/60000 [==============================] - 9s 145us/sample - loss: 0.1724 - acc: 0.9341 - val_loss: 0.4088 - val_acc: 0.8902\n",
      "Epoch 26/30\n",
      "60000/60000 [==============================] - 8s 141us/sample - loss: 0.1722 - acc: 0.9344 - val_loss: 0.3926 - val_acc: 0.8927\n",
      "Epoch 27/30\n",
      "60000/60000 [==============================] - 9s 148us/sample - loss: 0.1683 - acc: 0.9355 - val_loss: 0.4077 - val_acc: 0.8899\n",
      "Epoch 28/30\n",
      "60000/60000 [==============================] - 9s 149us/sample - loss: 0.1679 - acc: 0.9350 - val_loss: 0.3906 - val_acc: 0.8936\n",
      "Epoch 29/30\n",
      "60000/60000 [==============================] - 9s 147us/sample - loss: 0.1656 - acc: 0.9379 - val_loss: 0.4112 - val_acc: 0.8968\n",
      "Epoch 30/30\n",
      "60000/60000 [==============================] - 8s 137us/sample - loss: 0.1602 - acc: 0.9408 - val_loss: 0.4307 - val_acc: 0.8931\n"
     ]
    },
    {
     "data": {
      "text/plain": [
       "<tensorflow.python.keras.callbacks.History at 0x25b4d7d22e8>"
      ]
     },
     "execution_count": 8,
     "metadata": {},
     "output_type": "execute_result"
    }
   ],
   "source": [
    "#Train the model\n",
    "model.fit(trainX,trainY,          \n",
    "          validation_data=(testX,testY),\n",
    "          epochs=30,\n",
    "          batch_size=32)"
   ]
  },
  {
   "cell_type": "markdown",
   "metadata": {},
   "source": [
    "## Insights\n",
    "\n",
    "### The model accuracy is 94.08% with the loss 0.1602\n",
    "\n",
    "### Validation Accuracy is 89%"
   ]
  },
  {
   "cell_type": "markdown",
   "metadata": {},
   "source": [
    "## Evaluate the model"
   ]
  },
  {
   "cell_type": "code",
   "execution_count": 11,
   "metadata": {},
   "outputs": [
    {
     "name": "stdout",
     "output_type": "stream",
     "text": [
      "10000/10000 [==============================] - 0s 47us/sample - loss: 0.4307 - acc: 0.8931\n"
     ]
    },
    {
     "data": {
      "text/plain": [
       "89.31000232696533"
      ]
     },
     "execution_count": 11,
     "metadata": {},
     "output_type": "execute_result"
    }
   ],
   "source": [
    "scores = model.evaluate(testX, testY)\n",
    "scores[1]*100"
   ]
  },
  {
   "cell_type": "markdown",
   "metadata": {},
   "source": [
    "## So the Validation Accurary is same as the Evaluation Accuracy 89%"
   ]
  },
  {
   "cell_type": "code",
   "execution_count": null,
   "metadata": {},
   "outputs": [],
   "source": []
  }
 ],
 "metadata": {
  "colab": {
   "collapsed_sections": [],
   "name": "updated_R7_ExternalLab_Questions.ipynb",
   "provenance": [],
   "version": "0.3.2"
  },
  "kernelspec": {
   "display_name": "Python 3",
   "language": "python",
   "name": "python3"
  },
  "language_info": {
   "codemirror_mode": {
    "name": "ipython",
    "version": 3
   },
   "file_extension": ".py",
   "mimetype": "text/x-python",
   "name": "python",
   "nbconvert_exporter": "python",
   "pygments_lexer": "ipython3",
   "version": "3.7.0"
  }
 },
 "nbformat": 4,
 "nbformat_minor": 1
}
